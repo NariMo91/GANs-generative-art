{
  "nbformat": 4,
  "nbformat_minor": 0,
  "metadata": {
    "accelerator": "GPU",
    "colab": {
      "name": "malli-stylegan-ada.ipynb",
      "provenance": [],
      "machine_shape": "hm",
      "authorship_tag": "ABX9TyMFE+5CXLk3IKxsUCoFvVNy",
      "include_colab_link": true
    },
    "kernelspec": {
      "display_name": "Python 3",
      "name": "python3"
    },
    "language_info": {
      "name": "python"
    }
  },
  "cells": [
    {
      "cell_type": "markdown",
      "metadata": {
        "id": "view-in-github",
        "colab_type": "text"
      },
      "source": [
        "<a href=\"https://colab.research.google.com/github/NariMo91/GANs-generative-art/blob/main/malli_stylegan_ada.ipynb\" target=\"_parent\"><img src=\"https://colab.research.google.com/assets/colab-badge.svg\" alt=\"Open In Colab\"/></a>"
      ]
    },
    {
      "cell_type": "markdown",
      "metadata": {
        "id": "rY80XYnl0sj4"
      },
      "source": [
        "# malliGAN\n",
        "model: StyleGAN2-ADA"
      ]
    },
    {
      "cell_type": "markdown",
      "metadata": {
        "id": "Na0hNQKwQfp6"
      },
      "source": [
        "## GPU Type"
      ]
    },
    {
      "cell_type": "code",
      "metadata": {
        "colab": {
          "base_uri": "https://localhost:8080/"
        },
        "id": "VB_p852uQPHP",
        "outputId": "ec680c4c-933a-4d1d-e47c-8069f487e203"
      },
      "source": [
        "!nvidia-smi"
      ],
      "execution_count": null,
      "outputs": [
        {
          "output_type": "stream",
          "name": "stdout",
          "text": [
            "Sun Oct 10 02:28:54 2021       \n",
            "+-----------------------------------------------------------------------------+\n",
            "| NVIDIA-SMI 470.74       Driver Version: 460.32.03    CUDA Version: 11.2     |\n",
            "|-------------------------------+----------------------+----------------------+\n",
            "| GPU  Name        Persistence-M| Bus-Id        Disp.A | Volatile Uncorr. ECC |\n",
            "| Fan  Temp  Perf  Pwr:Usage/Cap|         Memory-Usage | GPU-Util  Compute M. |\n",
            "|                               |                      |               MIG M. |\n",
            "|===============================+======================+======================|\n",
            "|   0  Tesla P100-PCIE...  Off  | 00000000:00:04.0 Off |                    0 |\n",
            "| N/A   33C    P0    26W / 250W |      0MiB / 16280MiB |      0%      Default |\n",
            "|                               |                      |                  N/A |\n",
            "+-------------------------------+----------------------+----------------------+\n",
            "                                                                               \n",
            "+-----------------------------------------------------------------------------+\n",
            "| Processes:                                                                  |\n",
            "|  GPU   GI   CI        PID   Type   Process name                  GPU Memory |\n",
            "|        ID   ID                                                   Usage      |\n",
            "|=============================================================================|\n",
            "|  No running processes found                                                 |\n",
            "+-----------------------------------------------------------------------------+\n"
          ]
        }
      ]
    },
    {
      "cell_type": "markdown",
      "metadata": {
        "id": "QmOSXOhFR3R3"
      },
      "source": [
        "## Environment Set-up"
      ]
    },
    {
      "cell_type": "code",
      "metadata": {
        "colab": {
          "base_uri": "https://localhost:8080/"
        },
        "id": "F67c0w02QeLy",
        "outputId": "88ce04d8-5aa6-4991-8e0a-97cef85736f3"
      },
      "source": [
        "from google.colab import drive\n",
        "drive.mount('/content/drive', force_remount=True)"
      ],
      "execution_count": null,
      "outputs": [
        {
          "output_type": "stream",
          "name": "stdout",
          "text": [
            "Mounted at /content/drive\n"
          ]
        }
      ]
    },
    {
      "cell_type": "markdown",
      "metadata": {
        "id": "vLfY2tNmjNsq"
      },
      "source": [
        "Downgrade to previous Pytorch version"
      ]
    },
    {
      "cell_type": "code",
      "metadata": {
        "colab": {
          "base_uri": "https://localhost:8080/"
        },
        "id": "xW_Jq_MhrJi3",
        "outputId": "e0d69f05-b71e-4f81-a602-159807b332ec"
      },
      "source": [
        "!pip uninstall torch"
      ],
      "execution_count": null,
      "outputs": [
        {
          "name": "stdout",
          "output_type": "stream",
          "text": [
            "Found existing installation: torch 1.9.0+cu102\n",
            "Uninstalling torch-1.9.0+cu102:\n",
            "  Would remove:\n",
            "    /usr/local/bin/convert-caffe2-to-onnx\n",
            "    /usr/local/bin/convert-onnx-to-caffe2\n",
            "    /usr/local/lib/python3.7/dist-packages/caffe2/*\n",
            "    /usr/local/lib/python3.7/dist-packages/torch-1.9.0+cu102.dist-info/*\n",
            "    /usr/local/lib/python3.7/dist-packages/torch/*\n",
            "Proceed (y/n)? y\n",
            "y\n",
            "y\n",
            "  Successfully uninstalled torch-1.9.0+cu102\n"
          ]
        }
      ]
    },
    {
      "cell_type": "code",
      "metadata": {
        "colab": {
          "base_uri": "https://localhost:8080/"
        },
        "id": "jbCYZ0spi14_",
        "outputId": "05b8c413-0914-40a6-dc5b-76a880e66bff"
      },
      "source": [
        "!pip install torch==1.8.1 torchvision==0.9.1"
      ],
      "execution_count": null,
      "outputs": [
        {
          "name": "stdout",
          "output_type": "stream",
          "text": [
            "Collecting torch==1.8.1\n",
            "  Downloading torch-1.8.1-cp37-cp37m-manylinux1_x86_64.whl (804.1 MB)\n",
            "\u001b[K     |████████████████████████████████| 804.1 MB 2.6 kB/s \n",
            "\u001b[?25hCollecting torchvision==0.9.1\n",
            "  Downloading torchvision-0.9.1-cp37-cp37m-manylinux1_x86_64.whl (17.4 MB)\n",
            "\u001b[K     |████████████████████████████████| 17.4 MB 200 kB/s \n",
            "\u001b[?25hRequirement already satisfied: numpy in /usr/local/lib/python3.7/dist-packages (from torch==1.8.1) (1.19.5)\n",
            "Requirement already satisfied: typing-extensions in /usr/local/lib/python3.7/dist-packages (from torch==1.8.1) (3.7.4.3)\n",
            "Requirement already satisfied: pillow>=4.1.1 in /usr/local/lib/python3.7/dist-packages (from torchvision==0.9.1) (7.1.2)\n",
            "Installing collected packages: torch, torchvision\n",
            "  Attempting uninstall: torchvision\n",
            "    Found existing installation: torchvision 0.10.0+cu102\n",
            "    Uninstalling torchvision-0.10.0+cu102:\n",
            "      Successfully uninstalled torchvision-0.10.0+cu102\n",
            "\u001b[31mERROR: pip's dependency resolver does not currently take into account all the packages that are installed. This behaviour is the source of the following dependency conflicts.\n",
            "torchtext 0.10.0 requires torch==1.9.0, but you have torch 1.8.1 which is incompatible.\u001b[0m\n",
            "Successfully installed torch-1.8.1 torchvision-0.9.1\n"
          ]
        }
      ]
    },
    {
      "cell_type": "markdown",
      "metadata": {
        "id": "l5kKL10R1Rie"
      },
      "source": [
        "Install additional dependencies"
      ]
    },
    {
      "cell_type": "code",
      "metadata": {
        "colab": {
          "base_uri": "https://localhost:8080/"
        },
        "id": "d8oZNy2Qvm4B",
        "outputId": "10854995-2515-4745-e753-627ff58a25a7"
      },
      "source": [
        "!pip install click requests tqdm pyspng ninja imageio-ffmpeg==0.4.3"
      ],
      "execution_count": null,
      "outputs": [
        {
          "name": "stdout",
          "output_type": "stream",
          "text": [
            "Requirement already satisfied: click in /usr/local/lib/python3.7/dist-packages (7.1.2)\n",
            "Requirement already satisfied: requests in /usr/local/lib/python3.7/dist-packages (2.23.0)\n",
            "Requirement already satisfied: tqdm in /usr/local/lib/python3.7/dist-packages (4.62.2)\n",
            "Collecting pyspng\n",
            "  Downloading pyspng-0.1.0-cp37-cp37m-manylinux2010_x86_64.whl (195 kB)\n",
            "\u001b[K     |████████████████████████████████| 195 kB 6.7 MB/s \n",
            "\u001b[?25hCollecting ninja\n",
            "  Downloading ninja-1.10.2-py2.py3-none-manylinux_2_5_x86_64.manylinux1_x86_64.whl (108 kB)\n",
            "\u001b[K     |████████████████████████████████| 108 kB 52.8 MB/s \n",
            "\u001b[?25hCollecting imageio-ffmpeg==0.4.3\n",
            "  Downloading imageio_ffmpeg-0.4.3-py3-none-manylinux2010_x86_64.whl (26.9 MB)\n",
            "\u001b[K     |████████████████████████████████| 26.9 MB 1.2 MB/s \n",
            "\u001b[?25hRequirement already satisfied: chardet<4,>=3.0.2 in /usr/local/lib/python3.7/dist-packages (from requests) (3.0.4)\n",
            "Requirement already satisfied: urllib3!=1.25.0,!=1.25.1,<1.26,>=1.21.1 in /usr/local/lib/python3.7/dist-packages (from requests) (1.24.3)\n",
            "Requirement already satisfied: idna<3,>=2.5 in /usr/local/lib/python3.7/dist-packages (from requests) (2.10)\n",
            "Requirement already satisfied: certifi>=2017.4.17 in /usr/local/lib/python3.7/dist-packages (from requests) (2021.5.30)\n",
            "Requirement already satisfied: numpy in /usr/local/lib/python3.7/dist-packages (from pyspng) (1.19.5)\n",
            "Installing collected packages: pyspng, ninja, imageio-ffmpeg\n",
            "Successfully installed imageio-ffmpeg-0.4.3 ninja-1.10.2 pyspng-0.1.0\n"
          ]
        }
      ]
    },
    {
      "cell_type": "markdown",
      "metadata": {
        "id": "gPoUsGAxDFae"
      },
      "source": [
        "#### Install NVIDIA StyleGAN2 ADA Pytorch"
      ]
    },
    {
      "cell_type": "code",
      "metadata": {
        "colab": {
          "base_uri": "https://localhost:8080/"
        },
        "id": "M-67_4IuDFae",
        "outputId": "979e9701-4e6a-4c54-d7b1-35556f3b139c"
      },
      "source": [
        "!git clone https://github.com/NariMo91/stylegan2-ada-pytorch"
      ],
      "execution_count": null,
      "outputs": [
        {
          "name": "stdout",
          "output_type": "stream",
          "text": [
            "Cloning into 'stylegan2-ada-pytorch'...\n",
            "remote: Enumerating objects: 125, done.\u001b[K\n",
            "remote: Total 125 (delta 0), reused 0 (delta 0), pack-reused 125\u001b[K\n",
            "Receiving objects: 100% (125/125), 1.12 MiB | 3.07 MiB/s, done.\n",
            "Resolving deltas: 100% (55/55), done.\n"
          ]
        }
      ]
    },
    {
      "cell_type": "markdown",
      "metadata": {
        "id": "lPQLo_3maDSx"
      },
      "source": [
        "## Convert images"
      ]
    },
    {
      "cell_type": "code",
      "metadata": {
        "colab": {
          "base_uri": "https://localhost:8080/"
        },
        "id": "4dRaYRRKe23I",
        "outputId": "d02d3951-3ca7-4fd8-a740-8ef5b19a9802"
      },
      "source": [
        "!python /content/stylegan2-ada-pytorch/dataset_tool.py --source /content/drive/MyDrive/malliGAN/images/food-eheitner1024 --dest /content/drive/MyDrive/malliGAN/datasets/food-eheitner1024"
      ],
      "execution_count": null,
      "outputs": [
        {
          "name": "stdout",
          "output_type": "stream",
          "text": [
            "100% 392/392 [02:21<00:00,  2.77it/s]\n"
          ]
        }
      ]
    },
    {
      "cell_type": "code",
      "metadata": {
        "id": "Xv1aTDetgeWb"
      },
      "source": [
        "# If things go wrong\n",
        "# !rm -R /content/drive/MyDrive/malliGAN/datasets/food-eheitner1024/*"
      ],
      "execution_count": null,
      "outputs": []
    },
    {
      "cell_type": "markdown",
      "metadata": {
        "id": "9pdJmHhCfIF2"
      },
      "source": [
        "## Initial training"
      ]
    },
    {
      "cell_type": "code",
      "metadata": {
        "colab": {
          "base_uri": "https://localhost:8080/"
        },
        "id": "ijXV1BQAfFmH",
        "outputId": "0f736a47-53f5-4680-a42f-04aca59e68c8"
      },
      "source": [
        "import os\n",
        "\n",
        "# Modify these to suit your needs\n",
        "RESULTS = \"/content/drive/MyDrive/malliGAN/results\"\n",
        "DATA = \"/content/drive/MyDrive/malliGAN/datasets/food-eheitner1024\"\n",
        "SNAP = 4\n",
        "MIRRORED = True\n",
        "AUG = \"ada\"\n",
        "AUGPIPE = \"bgcfnc\"\n",
        "TARGET = 0.7\n",
        "\n",
        "# Build the command and run it\n",
        "cmd = f\"/usr/bin/python3 /content/stylegan2-ada-pytorch/train.py --snap {SNAP} --outdir {RESULTS} --data {DATA} --mirror {MIRRORED} --aug {AUG} --augpipe {AUGPIPE} --target {TARGET}\"\n",
        "!{cmd}"
      ],
      "execution_count": null,
      "outputs": [
        {
          "name": "stdout",
          "output_type": "stream",
          "text": [
            "\n",
            "Training options:\n",
            "{\n",
            "  \"num_gpus\": 1,\n",
            "  \"image_snapshot_ticks\": 4,\n",
            "  \"network_snapshot_ticks\": 4,\n",
            "  \"metrics\": [\n",
            "    \"fid50k_full\"\n",
            "  ],\n",
            "  \"random_seed\": 0,\n",
            "  \"training_set_kwargs\": {\n",
            "    \"class_name\": \"training.dataset.ImageFolderDataset\",\n",
            "    \"path\": \"/content/drive/MyDrive/malliGAN/datasets/food-eheitner1024\",\n",
            "    \"use_labels\": false,\n",
            "    \"max_size\": 392,\n",
            "    \"xflip\": true,\n",
            "    \"resolution\": 1024\n",
            "  },\n",
            "  \"data_loader_kwargs\": {\n",
            "    \"pin_memory\": true,\n",
            "    \"num_workers\": 3,\n",
            "    \"prefetch_factor\": 2\n",
            "  },\n",
            "  \"G_kwargs\": {\n",
            "    \"class_name\": \"training.networks.Generator\",\n",
            "    \"z_dim\": 512,\n",
            "    \"w_dim\": 512,\n",
            "    \"mapping_kwargs\": {\n",
            "      \"num_layers\": 2\n",
            "    },\n",
            "    \"synthesis_kwargs\": {\n",
            "      \"channel_base\": 32768,\n",
            "      \"channel_max\": 512,\n",
            "      \"num_fp16_res\": 4,\n",
            "      \"conv_clamp\": 256\n",
            "    }\n",
            "  },\n",
            "  \"D_kwargs\": {\n",
            "    \"class_name\": \"training.networks.Discriminator\",\n",
            "    \"block_kwargs\": {},\n",
            "    \"mapping_kwargs\": {},\n",
            "    \"epilogue_kwargs\": {\n",
            "      \"mbstd_group_size\": 4\n",
            "    },\n",
            "    \"channel_base\": 32768,\n",
            "    \"channel_max\": 512,\n",
            "    \"num_fp16_res\": 4,\n",
            "    \"conv_clamp\": 256\n",
            "  },\n",
            "  \"G_opt_kwargs\": {\n",
            "    \"class_name\": \"torch.optim.Adam\",\n",
            "    \"lr\": 0.002,\n",
            "    \"betas\": [\n",
            "      0,\n",
            "      0.99\n",
            "    ],\n",
            "    \"eps\": 1e-08\n",
            "  },\n",
            "  \"D_opt_kwargs\": {\n",
            "    \"class_name\": \"torch.optim.Adam\",\n",
            "    \"lr\": 0.002,\n",
            "    \"betas\": [\n",
            "      0,\n",
            "      0.99\n",
            "    ],\n",
            "    \"eps\": 1e-08\n",
            "  },\n",
            "  \"loss_kwargs\": {\n",
            "    \"class_name\": \"training.loss.StyleGAN2Loss\",\n",
            "    \"r1_gamma\": 52.4288\n",
            "  },\n",
            "  \"total_kimg\": 25000,\n",
            "  \"batch_size\": 4,\n",
            "  \"batch_gpu\": 4,\n",
            "  \"ema_kimg\": 1.25,\n",
            "  \"ema_rampup\": 0.05,\n",
            "  \"ada_target\": 0.7,\n",
            "  \"augment_kwargs\": {\n",
            "    \"class_name\": \"training.augment.AugmentPipe\",\n",
            "    \"xflip\": 1,\n",
            "    \"rotate90\": 1,\n",
            "    \"xint\": 1,\n",
            "    \"scale\": 1,\n",
            "    \"rotate\": 1,\n",
            "    \"aniso\": 1,\n",
            "    \"xfrac\": 1,\n",
            "    \"brightness\": 1,\n",
            "    \"contrast\": 1,\n",
            "    \"lumaflip\": 1,\n",
            "    \"hue\": 1,\n",
            "    \"saturation\": 1,\n",
            "    \"imgfilter\": 1,\n",
            "    \"noise\": 1,\n",
            "    \"cutout\": 1\n",
            "  },\n",
            "  \"run_dir\": \"/content/drive/MyDrive/malliGAN/results/00000-food-eheitner1024-mirror-auto1-ada-target0.7-bgcfnc\"\n",
            "}\n",
            "\n",
            "Output directory:   /content/drive/MyDrive/malliGAN/results/00000-food-eheitner1024-mirror-auto1-ada-target0.7-bgcfnc\n",
            "Training data:      /content/drive/MyDrive/malliGAN/datasets/food-eheitner1024\n",
            "Training duration:  25000 kimg\n",
            "Number of GPUs:     1\n",
            "Number of images:   392\n",
            "Image resolution:   1024\n",
            "Conditional model:  False\n",
            "Dataset x-flips:    True\n",
            "\n",
            "Creating output directory...\n",
            "Launching processes...\n",
            "Loading training set...\n",
            "\n",
            "Num images:  784\n",
            "Image shape: [3, 1024, 1024]\n",
            "Label shape: [0]\n",
            "\n",
            "Constructing networks...\n",
            "Setting up PyTorch plugin \"bias_act_plugin\"... Done.\n",
            "Setting up PyTorch plugin \"upfirdn2d_plugin\"... Done.\n",
            "\n",
            "Generator              Parameters  Buffers  Output shape         Datatype\n",
            "---                    ---         ---      ---                  ---     \n",
            "mapping.fc0            262656      -        [4, 512]             float32 \n",
            "mapping.fc1            262656      -        [4, 512]             float32 \n",
            "mapping                -           512      [4, 18, 512]         float32 \n",
            "synthesis.b4.conv1     2622465     32       [4, 512, 4, 4]       float32 \n",
            "synthesis.b4.torgb     264195      -        [4, 3, 4, 4]         float32 \n",
            "synthesis.b4:0         8192        16       [4, 512, 4, 4]       float32 \n",
            "synthesis.b4:1         -           -        [4, 512, 4, 4]       float32 \n",
            "synthesis.b8.conv0     2622465     80       [4, 512, 8, 8]       float32 \n",
            "synthesis.b8.conv1     2622465     80       [4, 512, 8, 8]       float32 \n",
            "synthesis.b8.torgb     264195      -        [4, 3, 8, 8]         float32 \n",
            "synthesis.b8:0         -           16       [4, 512, 8, 8]       float32 \n",
            "synthesis.b8:1         -           -        [4, 512, 8, 8]       float32 \n",
            "synthesis.b16.conv0    2622465     272      [4, 512, 16, 16]     float32 \n",
            "synthesis.b16.conv1    2622465     272      [4, 512, 16, 16]     float32 \n",
            "synthesis.b16.torgb    264195      -        [4, 3, 16, 16]       float32 \n",
            "synthesis.b16:0        -           16       [4, 512, 16, 16]     float32 \n",
            "synthesis.b16:1        -           -        [4, 512, 16, 16]     float32 \n",
            "synthesis.b32.conv0    2622465     1040     [4, 512, 32, 32]     float32 \n",
            "synthesis.b32.conv1    2622465     1040     [4, 512, 32, 32]     float32 \n",
            "synthesis.b32.torgb    264195      -        [4, 3, 32, 32]       float32 \n",
            "synthesis.b32:0        -           16       [4, 512, 32, 32]     float32 \n",
            "synthesis.b32:1        -           -        [4, 512, 32, 32]     float32 \n",
            "synthesis.b64.conv0    2622465     4112     [4, 512, 64, 64]     float32 \n",
            "synthesis.b64.conv1    2622465     4112     [4, 512, 64, 64]     float32 \n",
            "synthesis.b64.torgb    264195      -        [4, 3, 64, 64]       float32 \n",
            "synthesis.b64:0        -           16       [4, 512, 64, 64]     float32 \n",
            "synthesis.b64:1        -           -        [4, 512, 64, 64]     float32 \n",
            "synthesis.b128.conv0   1442561     16400    [4, 256, 128, 128]   float16 \n",
            "synthesis.b128.conv1   721409      16400    [4, 256, 128, 128]   float16 \n",
            "synthesis.b128.torgb   132099      -        [4, 3, 128, 128]     float16 \n",
            "synthesis.b128:0       -           16       [4, 256, 128, 128]   float16 \n",
            "synthesis.b128:1       -           -        [4, 256, 128, 128]   float32 \n",
            "synthesis.b256.conv0   426369      65552    [4, 128, 256, 256]   float16 \n",
            "synthesis.b256.conv1   213249      65552    [4, 128, 256, 256]   float16 \n",
            "synthesis.b256.torgb   66051       -        [4, 3, 256, 256]     float16 \n",
            "synthesis.b256:0       -           16       [4, 128, 256, 256]   float16 \n",
            "synthesis.b256:1       -           -        [4, 128, 256, 256]   float32 \n",
            "synthesis.b512.conv0   139457      262160   [4, 64, 512, 512]    float16 \n",
            "synthesis.b512.conv1   69761       262160   [4, 64, 512, 512]    float16 \n",
            "synthesis.b512.torgb   33027       -        [4, 3, 512, 512]     float16 \n",
            "synthesis.b512:0       -           16       [4, 64, 512, 512]    float16 \n",
            "synthesis.b512:1       -           -        [4, 64, 512, 512]    float32 \n",
            "synthesis.b1024.conv0  51297       1048592  [4, 32, 1024, 1024]  float16 \n",
            "synthesis.b1024.conv1  25665       1048592  [4, 32, 1024, 1024]  float16 \n",
            "synthesis.b1024.torgb  16515       -        [4, 3, 1024, 1024]   float16 \n",
            "synthesis.b1024:0      -           16       [4, 32, 1024, 1024]  float16 \n",
            "synthesis.b1024:1      -           -        [4, 32, 1024, 1024]  float32 \n",
            "---                    ---         ---      ---                  ---     \n",
            "Total                  28794124    2797104  -                    -       \n",
            "\n",
            "\n",
            "Discriminator  Parameters  Buffers  Output shape         Datatype\n",
            "---            ---         ---      ---                  ---     \n",
            "b1024.fromrgb  128         16       [4, 32, 1024, 1024]  float16 \n",
            "b1024.skip     2048        16       [4, 64, 512, 512]    float16 \n",
            "b1024.conv0    9248        16       [4, 32, 1024, 1024]  float16 \n",
            "b1024.conv1    18496       16       [4, 64, 512, 512]    float16 \n",
            "b1024          -           16       [4, 64, 512, 512]    float16 \n",
            "b512.skip      8192        16       [4, 128, 256, 256]   float16 \n",
            "b512.conv0     36928       16       [4, 64, 512, 512]    float16 \n",
            "b512.conv1     73856       16       [4, 128, 256, 256]   float16 \n",
            "b512           -           16       [4, 128, 256, 256]   float16 \n",
            "b256.skip      32768       16       [4, 256, 128, 128]   float16 \n",
            "b256.conv0     147584      16       [4, 128, 256, 256]   float16 \n",
            "b256.conv1     295168      16       [4, 256, 128, 128]   float16 \n",
            "b256           -           16       [4, 256, 128, 128]   float16 \n",
            "b128.skip      131072      16       [4, 512, 64, 64]     float16 \n",
            "b128.conv0     590080      16       [4, 256, 128, 128]   float16 \n",
            "b128.conv1     1180160     16       [4, 512, 64, 64]     float16 \n",
            "b128           -           16       [4, 512, 64, 64]     float16 \n",
            "b64.skip       262144      16       [4, 512, 32, 32]     float32 \n",
            "b64.conv0      2359808     16       [4, 512, 64, 64]     float32 \n",
            "b64.conv1      2359808     16       [4, 512, 32, 32]     float32 \n",
            "b64            -           16       [4, 512, 32, 32]     float32 \n",
            "b32.skip       262144      16       [4, 512, 16, 16]     float32 \n",
            "b32.conv0      2359808     16       [4, 512, 32, 32]     float32 \n",
            "b32.conv1      2359808     16       [4, 512, 16, 16]     float32 \n",
            "b32            -           16       [4, 512, 16, 16]     float32 \n",
            "b16.skip       262144      16       [4, 512, 8, 8]       float32 \n",
            "b16.conv0      2359808     16       [4, 512, 16, 16]     float32 \n",
            "b16.conv1      2359808     16       [4, 512, 8, 8]       float32 \n",
            "b16            -           16       [4, 512, 8, 8]       float32 \n",
            "b8.skip        262144      16       [4, 512, 4, 4]       float32 \n",
            "b8.conv0       2359808     16       [4, 512, 8, 8]       float32 \n",
            "b8.conv1       2359808     16       [4, 512, 4, 4]       float32 \n",
            "b8             -           16       [4, 512, 4, 4]       float32 \n",
            "b4.mbstd       -           -        [4, 513, 4, 4]       float32 \n",
            "b4.conv        2364416     16       [4, 512, 4, 4]       float32 \n",
            "b4.fc          4194816     -        [4, 512]             float32 \n",
            "b4.out         513         -        [4, 1]               float32 \n",
            "---            ---         ---      ---                  ---     \n",
            "Total          29012513    544      -                    -       \n",
            "\n",
            "Setting up augmentation...\n",
            "Distributing across 1 GPUs...\n",
            "Setting up training phases...\n",
            "Exporting sample images...\n",
            "Initializing logs...\n",
            "Training for 25000 kimg...\n",
            "\n",
            "tick 0     kimg 0.0      time 1m 19s       sec/tick 13.4    sec/kimg 3348.62 maintenance 65.5   cpumem 4.08   gpumem 12.89  augment 0.000\n",
            "Evaluating metrics...\n",
            "{\"results\": {\"fid50k_full\": 362.0709050767614}, \"metric\": \"fid50k_full\", \"total_time\": 2313.912511587143, \"total_time_str\": \"38m 34s\", \"num_gpus\": 1, \"snapshot_pkl\": \"network-snapshot-000000.pkl\", \"timestamp\": 1631588116.2966187}\n",
            "tick 1     kimg 4.0      time 1h 11m 03s   sec/tick 1857.1  sec/kimg 464.27  maintenance 2327.3 cpumem 5.29   gpumem 7.64   augment 0.006\n",
            "tick 2     kimg 8.0      time 1h 42m 02s   sec/tick 1858.7  sec/kimg 464.68  maintenance 0.3    cpumem 5.29   gpumem 7.65   augment 0.010\n",
            "tick 3     kimg 12.0     time 2h 13m 01s   sec/tick 1858.1  sec/kimg 464.53  maintenance 0.3    cpumem 5.29   gpumem 7.66   augment 0.015\n",
            "tick 4     kimg 16.0     time 2h 44m 00s   sec/tick 1858.9  sec/kimg 464.72  maintenance 0.3    cpumem 5.29   gpumem 7.65   augment 0.017\n",
            "Evaluating metrics...\n",
            "{\"results\": {\"fid50k_full\": 369.2238479424669}, \"metric\": \"fid50k_full\", \"total_time\": 2301.6874616146088, \"total_time_str\": \"38m 22s\", \"num_gpus\": 1, \"snapshot_pkl\": \"network-snapshot-000016.pkl\", \"timestamp\": 1631597871.0039513}\n",
            "tick 5     kimg 20.0     time 3h 53m 39s   sec/tick 1858.4  sec/kimg 464.60  maintenance 2321.1 cpumem 5.62   gpumem 7.65   augment 0.020\n",
            "tick 6     kimg 24.0     time 4h 24m 38s   sec/tick 1858.8  sec/kimg 464.70  maintenance 0.3    cpumem 5.62   gpumem 7.88   augment 0.022\n",
            "tick 7     kimg 28.0     time 4h 55m 37s   sec/tick 1858.3  sec/kimg 464.58  maintenance 0.3    cpumem 5.62   gpumem 7.66   augment 0.024\n",
            "tick 8     kimg 32.0     time 5h 26m 37s   sec/tick 1859.8  sec/kimg 464.94  maintenance 0.3    cpumem 5.62   gpumem 7.69   augment 0.027\n",
            "Evaluating metrics...\n",
            "{\"results\": {\"fid50k_full\": 299.9726982568777}, \"metric\": \"fid50k_full\", \"total_time\": 2301.8887615203857, \"total_time_str\": \"38m 22s\", \"num_gpus\": 1, \"snapshot_pkl\": \"network-snapshot-000032.pkl\", \"timestamp\": 1631607624.9745834}\n",
            "tick 9     kimg 36.0     time 6h 36m 14s   sec/tick 1859.2  sec/kimg 464.81  maintenance 2317.9 cpumem 5.87   gpumem 7.65   augment 0.029\n",
            "tick 10    kimg 40.0     time 7h 07m 14s   sec/tick 1860.0  sec/kimg 465.01  maintenance 0.3    cpumem 5.87   gpumem 7.77   augment 0.031\n",
            "tick 11    kimg 44.0     time 7h 38m 14s   sec/tick 1859.6  sec/kimg 464.89  maintenance 0.3    cpumem 5.87   gpumem 7.81   augment 0.033\n",
            "tick 12    kimg 48.0     time 8h 09m 15s   sec/tick 1860.2  sec/kimg 465.04  maintenance 0.3    cpumem 5.87   gpumem 7.70   augment 0.036\n",
            "Evaluating metrics...\n"
          ]
        }
      ]
    },
    {
      "cell_type": "markdown",
      "metadata": {
        "id": "OoDREZwhohIR"
      },
      "source": [
        "## Resume training"
      ]
    },
    {
      "cell_type": "code",
      "metadata": {
        "colab": {
          "base_uri": "https://localhost:8080/"
        },
        "id": "0VtGAMeivrYw",
        "outputId": "93b68857-bc04-435a-acce-53776ce66e45"
      },
      "source": [
        "import os\n",
        "\n",
        "# Modify these to suit your needs\n",
        "RESULTS = \"/content/drive/MyDrive/malliGAN/results\"\n",
        "RESUME = \"/content/drive/MyDrive/malliGAN/results/00000-food-eheitner1024-mirror-auto1-ada-target0.7-bgcfnc/network-snapshot-000048.pkl\"\n",
        "DATA = \"/content/drive/MyDrive/malliGAN/datasets/food-eheitner1024\"\n",
        "SNAP = 4\n",
        "MIRRORED = True\n",
        "AUG = \"ada\"\n",
        "AUGPIPE = \"bgcfnc\"\n",
        "TARGET = 0.7\n",
        "\n",
        "# Build the command and run it\n",
        "cmd = f\"/usr/bin/python3 /content/stylegan2-ada-pytorch/train.py --snap {SNAP} --resume {RESUME} --outdir {RESULTS} --data {DATA} --mirror {MIRRORED} --aug {AUG} --augpipe {AUGPIPE} --target {TARGET}\"\n",
        "!{cmd}"
      ],
      "execution_count": 1,
      "outputs": [
        {
          "output_type": "stream",
          "name": "stdout",
          "text": [
            "/usr/bin/python3: can't open file '/content/stylegan2-ada-pytorch/train.py': [Errno 2] No such file or directory\n"
          ]
        }
      ]
    },
    {
      "cell_type": "code",
      "metadata": {
        "colab": {
          "base_uri": "https://localhost:8080/"
        },
        "id": "GSOgOkXQXLfr",
        "outputId": "d18f30d6-96a8-4edf-eaaa-51567d89cf84"
      },
      "source": [
        "import os\n",
        "\n",
        "# Modify these to suit your needs\n",
        "RESULTS = \"/content/drive/MyDrive/malliGAN/results\"\n",
        "RESUME = \"/content/drive/MyDrive/malliGAN/results/00001-food-eheitner1024-mirror-auto1-ada-target0.7-bgcfnc-resumecustom/network-snapshot-000096.pkl\"\n",
        "DATA = \"/content/drive/MyDrive/malliGAN/datasets/food-eheitner1024\"\n",
        "SNAP = 4\n",
        "MIRRORED = True\n",
        "AUG = \"ada\"\n",
        "AUGPIPE = \"bgcfnc\"\n",
        "TARGET = 0.7\n",
        "\n",
        "# Build the command and run it\n",
        "cmd = f\"/usr/bin/python3 /content/stylegan2-ada-pytorch/train.py --snap {SNAP} --resume {RESUME} --outdir {RESULTS} --data {DATA} --mirror {MIRRORED} --aug {AUG} --augpipe {AUGPIPE} --target {TARGET}\"\n",
        "!{cmd}"
      ],
      "execution_count": 2,
      "outputs": [
        {
          "output_type": "stream",
          "name": "stdout",
          "text": [
            "/usr/bin/python3: can't open file '/content/stylegan2-ada-pytorch/train.py': [Errno 2] No such file or directory\n"
          ]
        }
      ]
    },
    {
      "cell_type": "code",
      "metadata": {
        "colab": {
          "base_uri": "https://localhost:8080/"
        },
        "id": "-lWCoF_3yX0h",
        "outputId": "9d31df47-f617-4c72-af79-93ff7bc8db3a"
      },
      "source": [
        "import os\n",
        "\n",
        "# Modify these to suit your needs\n",
        "RESULTS = \"/content/drive/MyDrive/malliGAN/results\"\n",
        "RESUME = \"/content/drive/MyDrive/malliGAN/results/00002-food-eheitner1024-mirror-auto1-ada-target0.7-bgcfnc-resumecustom/network-snapshot-000096.pkl\"\n",
        "DATA = \"/content/drive/MyDrive/malliGAN/datasets/food-eheitner1024\"\n",
        "SNAP = 4\n",
        "MIRRORED = True\n",
        "AUG = \"ada\"\n",
        "AUGPIPE = \"bgcfnc\"\n",
        "TARGET = 0.7\n",
        "\n",
        "# Build the command and run it\n",
        "cmd = f\"/usr/bin/python3 /content/stylegan2-ada-pytorch/train.py --snap {SNAP} --resume {RESUME} --outdir {RESULTS} --data {DATA} --mirror {MIRRORED} --aug {AUG} --augpipe {AUGPIPE} --target {TARGET}\"\n",
        "!{cmd}"
      ],
      "execution_count": 3,
      "outputs": [
        {
          "output_type": "stream",
          "name": "stdout",
          "text": [
            "/usr/bin/python3: can't open file '/content/stylegan2-ada-pytorch/train.py': [Errno 2] No such file or directory\n"
          ]
        }
      ]
    },
    {
      "cell_type": "code",
      "metadata": {
        "colab": {
          "base_uri": "https://localhost:8080/"
        },
        "id": "IKuZyYJV7Jn_",
        "outputId": "af8bb319-f14c-4808-8049-2ca7c37439b0"
      },
      "source": [
        "import os\n",
        "\n",
        "# Modify these to suit your needs\n",
        "RESULTS = \"/content/drive/MyDrive/malliGAN/results\"\n",
        "RESUME = \"/content/drive/MyDrive/malliGAN/results/00003-food-eheitner1024-mirror-auto1-ada-target0.7-bgcfnc-resumecustom/network-snapshot-000112.pkl\"\n",
        "DATA = \"/content/drive/MyDrive/malliGAN/datasets/food-eheitner1024\"\n",
        "SNAP = 4\n",
        "MIRRORED = True\n",
        "AUG = \"ada\"\n",
        "AUGPIPE = \"bgc\"\n",
        "TARGET = 0.7\n",
        "\n",
        "# Build the command and run it\n",
        "cmd = f\"/usr/bin/python3 /content/stylegan2-ada-pytorch/train.py --snap {SNAP} --resume {RESUME} --outdir {RESULTS} --data {DATA} --mirror {MIRRORED} --aug {AUG} --augpipe {AUGPIPE} --target {TARGET}\"\n",
        "!{cmd}"
      ],
      "execution_count": 4,
      "outputs": [
        {
          "output_type": "stream",
          "name": "stdout",
          "text": [
            "/usr/bin/python3: can't open file '/content/stylegan2-ada-pytorch/train.py': [Errno 2] No such file or directory\n"
          ]
        }
      ]
    },
    {
      "cell_type": "code",
      "metadata": {
        "colab": {
          "base_uri": "https://localhost:8080/"
        },
        "id": "e3z09pMLKTaH",
        "outputId": "d8b7e247-b1d7-4471-c854-edb5cb887d5b"
      },
      "source": [
        "import os\n",
        "\n",
        "# Modify these to suit your needs\n",
        "RESULTS = \"/content/drive/MyDrive/malliGAN/results\"\n",
        "RESUME = \"/content/drive/MyDrive/malliGAN/results/00004-food-eheitner1024-mirror-auto1-ada-target0.7-bgc-resumecustom/network-snapshot-000112.pkl\"\n",
        "DATA = \"/content/drive/MyDrive/malliGAN/datasets/food-eheitner1024\"\n",
        "SNAP = 4\n",
        "MIRRORED = True\n",
        "AUG = \"ada\"\n",
        "AUGPIPE = \"bgc\"\n",
        "TARGET = 0.7\n",
        "\n",
        "# Build the command and run it\n",
        "cmd = f\"/usr/bin/python3 /content/stylegan2-ada-pytorch/train.py --snap {SNAP} --resume {RESUME} --outdir {RESULTS} --data {DATA} --mirror {MIRRORED} --aug {AUG} --augpipe {AUGPIPE} --target {TARGET}\"\n",
        "!{cmd}"
      ],
      "execution_count": 5,
      "outputs": [
        {
          "output_type": "stream",
          "name": "stdout",
          "text": [
            "/usr/bin/python3: can't open file '/content/stylegan2-ada-pytorch/train.py': [Errno 2] No such file or directory\n"
          ]
        }
      ]
    },
    {
      "cell_type": "code",
      "metadata": {
        "colab": {
          "base_uri": "https://localhost:8080/"
        },
        "id": "bxpC1LQHi-hx",
        "outputId": "57c85000-0c3c-4ca4-d858-400c7021e7f5"
      },
      "source": [
        "import os\n",
        "\n",
        "# Modify these to suit your needs\n",
        "RESULTS = \"/content/drive/MyDrive/malliGAN/results\"\n",
        "RESUME = \"/content/drive/MyDrive/malliGAN/results/00005-food-eheitner1024-mirror-auto1-ada-target0.7-bgc-resumecustom/network-snapshot-000112.pkl\"\n",
        "DATA = \"/content/drive/MyDrive/malliGAN/datasets/food-eheitner1024\"\n",
        "SNAP = 4\n",
        "MIRRORED = True\n",
        "AUG = \"ada\"\n",
        "AUGPIPE = \"bgc\"\n",
        "TARGET = 0.7\n",
        "\n",
        "# Build the command and run it\n",
        "cmd = f\"/usr/bin/python3 /content/stylegan2-ada-pytorch/train.py --snap {SNAP} --resume {RESUME} --outdir {RESULTS} --data {DATA} --mirror {MIRRORED} --aug {AUG} --augpipe {AUGPIPE} --target {TARGET}\"\n",
        "!{cmd}"
      ],
      "execution_count": 6,
      "outputs": [
        {
          "output_type": "stream",
          "name": "stdout",
          "text": [
            "/usr/bin/python3: can't open file '/content/stylegan2-ada-pytorch/train.py': [Errno 2] No such file or directory\n"
          ]
        }
      ]
    },
    {
      "cell_type": "markdown",
      "metadata": {
        "id": "6pufYgOESL2a"
      },
      "source": [
        "## Plot Metrics"
      ]
    },
    {
      "cell_type": "code",
      "metadata": {
        "id": "s95v8pKPRAVV"
      },
      "source": [
        "import json\n",
        "import pandas as pd\n",
        "import numpy as np\n",
        "import matplotlib.pyplot as plt\n",
        "import seaborn as sns\n",
        "%matplotlib inline"
      ],
      "execution_count": null,
      "outputs": []
    },
    {
      "cell_type": "markdown",
      "metadata": {
        "id": "Jejdjs081wYs"
      },
      "source": [
        "Extract FID from the multiple training runs"
      ]
    },
    {
      "cell_type": "code",
      "metadata": {
        "id": "lUnknBeaZ0x-"
      },
      "source": [
        "with open(\"/content/drive/MyDrive/malliGAN/results/00000-food-eheitner1024-mirror-auto1-ada-target0.7-bgcfnc/metric-fid50k_full.jsonl\", 'r') as f:\n",
        "  json_list = list(f)"
      ],
      "execution_count": null,
      "outputs": []
    },
    {
      "cell_type": "code",
      "metadata": {
        "colab": {
          "base_uri": "https://localhost:8080/"
        },
        "id": "TeLUdunRs_iF",
        "outputId": "d2299e49-faff-4ac5-c738-6bfdee0ff478"
      },
      "source": [
        "json_list"
      ],
      "execution_count": null,
      "outputs": [
        {
          "output_type": "execute_result",
          "data": {
            "text/plain": [
              "['{\"results\": {\"fid50k_full\": 362.0709050767614}, \"metric\": \"fid50k_full\", \"total_time\": 2313.912511587143, \"total_time_str\": \"38m 34s\", \"num_gpus\": 1, \"snapshot_pkl\": \"network-snapshot-000000.pkl\", \"timestamp\": 1631588116.2966187}\\n',\n",
              " '{\"results\": {\"fid50k_full\": 369.2238479424669}, \"metric\": \"fid50k_full\", \"total_time\": 2301.6874616146088, \"total_time_str\": \"38m 22s\", \"num_gpus\": 1, \"snapshot_pkl\": \"network-snapshot-000016.pkl\", \"timestamp\": 1631597871.0039513}\\n',\n",
              " '{\"results\": {\"fid50k_full\": 299.9726982568777}, \"metric\": \"fid50k_full\", \"total_time\": 2301.8887615203857, \"total_time_str\": \"38m 22s\", \"num_gpus\": 1, \"snapshot_pkl\": \"network-snapshot-000032.pkl\", \"timestamp\": 1631607624.9745834}\\n']"
            ]
          },
          "metadata": {},
          "execution_count": 5
        }
      ]
    },
    {
      "cell_type": "code",
      "metadata": {
        "id": "uFtT4qTjtUx-"
      },
      "source": [
        "data = [json.loads(line) for line in json_list]"
      ],
      "execution_count": null,
      "outputs": []
    },
    {
      "cell_type": "code",
      "metadata": {
        "colab": {
          "base_uri": "https://localhost:8080/"
        },
        "id": "xHwUHD9d0FWM",
        "outputId": "f94cb04e-822f-40dc-e66a-6b3a25de208b"
      },
      "source": [
        "data"
      ],
      "execution_count": null,
      "outputs": [
        {
          "output_type": "execute_result",
          "data": {
            "text/plain": [
              "[{'metric': 'fid50k_full',\n",
              "  'num_gpus': 1,\n",
              "  'results': {'fid50k_full': 362.0709050767614},\n",
              "  'snapshot_pkl': 'network-snapshot-000000.pkl',\n",
              "  'timestamp': 1631588116.2966187,\n",
              "  'total_time': 2313.912511587143,\n",
              "  'total_time_str': '38m 34s'},\n",
              " {'metric': 'fid50k_full',\n",
              "  'num_gpus': 1,\n",
              "  'results': {'fid50k_full': 369.2238479424669},\n",
              "  'snapshot_pkl': 'network-snapshot-000016.pkl',\n",
              "  'timestamp': 1631597871.0039513,\n",
              "  'total_time': 2301.6874616146088,\n",
              "  'total_time_str': '38m 22s'},\n",
              " {'metric': 'fid50k_full',\n",
              "  'num_gpus': 1,\n",
              "  'results': {'fid50k_full': 299.9726982568777},\n",
              "  'snapshot_pkl': 'network-snapshot-000032.pkl',\n",
              "  'timestamp': 1631607624.9745834,\n",
              "  'total_time': 2301.8887615203857,\n",
              "  'total_time_str': '38m 22s'}]"
            ]
          },
          "metadata": {},
          "execution_count": 7
        }
      ]
    },
    {
      "cell_type": "code",
      "metadata": {
        "id": "xXabOAKLDZCI"
      },
      "source": [
        "for i, _ in enumerate(data):\n",
        "  data[i]['fid50k_full'] = data[i]['results']['fid50k_full']\n",
        "  data[i]['kimg'] = i * 4 * 4"
      ],
      "execution_count": null,
      "outputs": []
    },
    {
      "cell_type": "code",
      "metadata": {
        "colab": {
          "base_uri": "https://localhost:8080/"
        },
        "id": "O0LxYdlNH5mG",
        "outputId": "d0ffada2-cab2-49d4-8265-3ceea2501d32"
      },
      "source": [
        "data"
      ],
      "execution_count": null,
      "outputs": [
        {
          "output_type": "execute_result",
          "data": {
            "text/plain": [
              "[{'fid50k_full': 362.0709050767614,\n",
              "  'kimg': 0,\n",
              "  'metric': 'fid50k_full',\n",
              "  'num_gpus': 1,\n",
              "  'results': {'fid50k_full': 362.0709050767614},\n",
              "  'snapshot_pkl': 'network-snapshot-000000.pkl',\n",
              "  'timestamp': 1631588116.2966187,\n",
              "  'total_time': 2313.912511587143,\n",
              "  'total_time_str': '38m 34s'},\n",
              " {'fid50k_full': 369.2238479424669,\n",
              "  'kimg': 16,\n",
              "  'metric': 'fid50k_full',\n",
              "  'num_gpus': 1,\n",
              "  'results': {'fid50k_full': 369.2238479424669},\n",
              "  'snapshot_pkl': 'network-snapshot-000016.pkl',\n",
              "  'timestamp': 1631597871.0039513,\n",
              "  'total_time': 2301.6874616146088,\n",
              "  'total_time_str': '38m 22s'},\n",
              " {'fid50k_full': 299.9726982568777,\n",
              "  'kimg': 32,\n",
              "  'metric': 'fid50k_full',\n",
              "  'num_gpus': 1,\n",
              "  'results': {'fid50k_full': 299.9726982568777},\n",
              "  'snapshot_pkl': 'network-snapshot-000032.pkl',\n",
              "  'timestamp': 1631607624.9745834,\n",
              "  'total_time': 2301.8887615203857,\n",
              "  'total_time_str': '38m 22s'}]"
            ]
          },
          "metadata": {},
          "execution_count": 11
        }
      ]
    },
    {
      "cell_type": "code",
      "metadata": {
        "id": "NGE4jZdwICQf"
      },
      "source": [
        "with open(\"/content/drive/MyDrive/malliGAN/results/00001-food-eheitner1024-mirror-auto1-ada-target0.7-bgcfnc-resumecustom/metric-fid50k_full.jsonl\", 'r') as f:\n",
        "  json_list = list(f)"
      ],
      "execution_count": null,
      "outputs": []
    },
    {
      "cell_type": "code",
      "metadata": {
        "id": "SIVkjCYsGTCE"
      },
      "source": [
        "data2 = [json.loads(line) for line in json_list]\n",
        "for i, _ in enumerate(data2):\n",
        "  data2[i]['fid50k_full'] = data2[i]['results']['fid50k_full']\n",
        "  data2[i]['kimg'] = (i * 4 * 4) + 48 #add kimg from previous run"
      ],
      "execution_count": null,
      "outputs": []
    },
    {
      "cell_type": "code",
      "metadata": {
        "colab": {
          "base_uri": "https://localhost:8080/"
        },
        "id": "FdvO0gTnNP96",
        "outputId": "6625a5b0-4dd5-40a2-d404-1a4aba46d39b"
      },
      "source": [
        "data2"
      ],
      "execution_count": null,
      "outputs": [
        {
          "output_type": "execute_result",
          "data": {
            "text/plain": [
              "[{'fid50k_full': 231.93313160636123,\n",
              "  'kimg': 48,\n",
              "  'metric': 'fid50k_full',\n",
              "  'num_gpus': 1,\n",
              "  'results': {'fid50k_full': 231.93313160636123},\n",
              "  'snapshot_pkl': 'network-snapshot-000000.pkl',\n",
              "  'timestamp': 1631649920.2616522,\n",
              "  'total_time': 2546.3751966953278,\n",
              "  'total_time_str': '42m 26s'},\n",
              " {'fid50k_full': 187.61681349739325,\n",
              "  'kimg': 64,\n",
              "  'metric': 'fid50k_full',\n",
              "  'num_gpus': 1,\n",
              "  'results': {'fid50k_full': 187.61681349739325},\n",
              "  'snapshot_pkl': 'network-snapshot-000016.pkl',\n",
              "  'timestamp': 1631660968.3264294,\n",
              "  'total_time': 2390.8223462104797,\n",
              "  'total_time_str': '39m 51s'},\n",
              " {'fid50k_full': 207.2614859233689,\n",
              "  'kimg': 80,\n",
              "  'metric': 'fid50k_full',\n",
              "  'num_gpus': 1,\n",
              "  'results': {'fid50k_full': 207.2614859233689},\n",
              "  'snapshot_pkl': 'network-snapshot-000032.pkl',\n",
              "  'timestamp': 1631672026.3032165,\n",
              "  'total_time': 2381.9961335659027,\n",
              "  'total_time_str': '39m 42s'},\n",
              " {'fid50k_full': 161.12890958917302,\n",
              "  'kimg': 96,\n",
              "  'metric': 'fid50k_full',\n",
              "  'num_gpus': 1,\n",
              "  'results': {'fid50k_full': 161.12890958917302},\n",
              "  'snapshot_pkl': 'network-snapshot-000048.pkl',\n",
              "  'timestamp': 1631683101.6471658,\n",
              "  'total_time': 2384.7996344566345,\n",
              "  'total_time_str': '39m 45s'},\n",
              " {'fid50k_full': 151.32710140951588,\n",
              "  'kimg': 112,\n",
              "  'metric': 'fid50k_full',\n",
              "  'num_gpus': 1,\n",
              "  'results': {'fid50k_full': 151.32710140951588},\n",
              "  'snapshot_pkl': 'network-snapshot-000064.pkl',\n",
              "  'timestamp': 1631694187.4244099,\n",
              "  'total_time': 2387.465434074402,\n",
              "  'total_time_str': '39m 47s'},\n",
              " {'fid50k_full': 137.319075007602,\n",
              "  'kimg': 128,\n",
              "  'metric': 'fid50k_full',\n",
              "  'num_gpus': 1,\n",
              "  'results': {'fid50k_full': 137.319075007602},\n",
              "  'snapshot_pkl': 'network-snapshot-000080.pkl',\n",
              "  'timestamp': 1631705184.859178,\n",
              "  'total_time': 2373.956124305725,\n",
              "  'total_time_str': '39m 34s'},\n",
              " {'fid50k_full': 135.95974347368414,\n",
              "  'kimg': 144,\n",
              "  'metric': 'fid50k_full',\n",
              "  'num_gpus': 1,\n",
              "  'results': {'fid50k_full': 135.95974347368414},\n",
              "  'snapshot_pkl': 'network-snapshot-000096.pkl',\n",
              "  'timestamp': 1631716229.6466696,\n",
              "  'total_time': 2389.670976161957,\n",
              "  'total_time_str': '39m 50s'}]"
            ]
          },
          "metadata": {},
          "execution_count": 14
        }
      ]
    },
    {
      "cell_type": "code",
      "metadata": {
        "id": "XOPEDQBQN1Rr"
      },
      "source": [
        "with open(\"/content/drive/MyDrive/malliGAN/results/00002-food-eheitner1024-mirror-auto1-ada-target0.7-bgcfnc-resumecustom/metric-fid50k_full.jsonl\", 'r') as f:\n",
        "  json_list = list(f)"
      ],
      "execution_count": null,
      "outputs": []
    },
    {
      "cell_type": "code",
      "metadata": {
        "id": "Mx3jeKL3N1Rr"
      },
      "source": [
        "data3 = [json.loads(line) for line in json_list]\n",
        "for i, _ in enumerate(data3):\n",
        "  data3[i]['fid50k_full'] = data3[i]['results']['fid50k_full']\n",
        "  data3[i]['kimg'] = (i * 4 * 4) + 144 #add kimg from previous run"
      ],
      "execution_count": null,
      "outputs": []
    },
    {
      "cell_type": "code",
      "metadata": {
        "colab": {
          "base_uri": "https://localhost:8080/"
        },
        "id": "7ieVNg-uOpBR",
        "outputId": "54f49b77-54f3-4a99-ce25-938e02159f56"
      },
      "source": [
        "data3[-1]['kimg']"
      ],
      "execution_count": null,
      "outputs": [
        {
          "output_type": "execute_result",
          "data": {
            "text/plain": [
              "240"
            ]
          },
          "metadata": {},
          "execution_count": 17
        }
      ]
    },
    {
      "cell_type": "code",
      "metadata": {
        "id": "ZyxNz7tgOboz"
      },
      "source": [
        "with open(\"/content/drive/MyDrive/malliGAN/results/00003-food-eheitner1024-mirror-auto1-ada-target0.7-bgcfnc-resumecustom/metric-fid50k_full.jsonl\", 'r') as f:\n",
        "  json_list = list(f)"
      ],
      "execution_count": null,
      "outputs": []
    },
    {
      "cell_type": "code",
      "metadata": {
        "id": "SYluTkmYObo0"
      },
      "source": [
        "data4 = [json.loads(line) for line in json_list]\n",
        "for i, _ in enumerate(data4):\n",
        "  data4[i]['fid50k_full'] = data4[i]['results']['fid50k_full']\n",
        "  data4[i]['kimg'] = (i * 4 * 4) + data3[-1]['kimg'] #add kimg from previous run"
      ],
      "execution_count": null,
      "outputs": []
    },
    {
      "cell_type": "code",
      "metadata": {
        "id": "VvQojrmMQMKa"
      },
      "source": [
        "with open(\"/content/drive/MyDrive/malliGAN/results/00004-food-eheitner1024-mirror-auto1-ada-target0.7-bgc-resumecustom/metric-fid50k_full.jsonl\", 'r') as f:\n",
        "  json_list = list(f)"
      ],
      "execution_count": null,
      "outputs": []
    },
    {
      "cell_type": "code",
      "metadata": {
        "id": "QUJ2i9mkQMKa"
      },
      "source": [
        "data5 = [json.loads(line) for line in json_list]\n",
        "for i, _ in enumerate(data5):\n",
        "  data5[i]['fid50k_full'] = data5[i]['results']['fid50k_full']\n",
        "  data5[i]['kimg'] = (i * 4 * 4) + data4[-1]['kimg'] #add kimg from previous run"
      ],
      "execution_count": null,
      "outputs": []
    },
    {
      "cell_type": "code",
      "metadata": {
        "id": "l9VQzSr0QMjA"
      },
      "source": [
        "with open(\"/content/drive/MyDrive/malliGAN/results/00005-food-eheitner1024-mirror-auto1-ada-target0.7-bgc-resumecustom/metric-fid50k_full.jsonl\", 'r') as f:\n",
        "  json_list = list(f)"
      ],
      "execution_count": null,
      "outputs": []
    },
    {
      "cell_type": "code",
      "metadata": {
        "id": "cIihfsCvQMjB"
      },
      "source": [
        "data6 = [json.loads(line) for line in json_list]\n",
        "for i, _ in enumerate(data6):\n",
        "  data6[i]['fid50k_full'] = data6[i]['results']['fid50k_full']\n",
        "  data6[i]['kimg'] = (i * 4 * 4) + data5[-1]['kimg'] #add kimg from previous run"
      ],
      "execution_count": null,
      "outputs": []
    },
    {
      "cell_type": "code",
      "metadata": {
        "id": "IacPz6jZQNH9"
      },
      "source": [
        "with open(\"/content/drive/MyDrive/malliGAN/results/00006-food-eheitner1024-mirror-auto1-ada-target0.7-bgc-resumecustom/metric-fid50k_full.jsonl\", 'r') as f:\n",
        "  json_list = list(f)"
      ],
      "execution_count": null,
      "outputs": []
    },
    {
      "cell_type": "code",
      "metadata": {
        "id": "60K4MiAkQNH9"
      },
      "source": [
        "data7 = [json.loads(line) for line in json_list]\n",
        "for i, _ in enumerate(data7):\n",
        "  data7[i]['fid50k_full'] = data7[i]['results']['fid50k_full']\n",
        "  data7[i]['kimg'] = (i * 4 * 4) + data6[-1]['kimg'] #add kimg from previous run"
      ],
      "execution_count": null,
      "outputs": []
    },
    {
      "cell_type": "code",
      "metadata": {
        "id": "s_hQlp8PQ_x_"
      },
      "source": [
        "with open(\"/content/drive/MyDrive/malliGAN/results/00007-food-eheitner1024-mirror-auto1-ada-target0.7-bgc-resumecustom/metric-fid50k_full.jsonl\", 'r') as f:\n",
        "  json_list = list(f)"
      ],
      "execution_count": null,
      "outputs": []
    },
    {
      "cell_type": "code",
      "metadata": {
        "id": "7wr_brRpQ_yA"
      },
      "source": [
        "data8 = [json.loads(line) for line in json_list]\n",
        "for i, _ in enumerate(data8):\n",
        "  data8[i]['fid50k_full'] = data8[i]['results']['fid50k_full']\n",
        "  data8[i]['kimg'] = (i * 4 * 4) + data7[-1]['kimg'] #add kimg from previous run"
      ],
      "execution_count": null,
      "outputs": []
    },
    {
      "cell_type": "code",
      "metadata": {
        "id": "FWcqu0ryRS92"
      },
      "source": [
        "with open(\"/content/drive/MyDrive/malliGAN/results/00008-food-eheitner1024-mirror-auto1-ada-target0.7-bgc-resumecustom/metric-fid50k_full.jsonl\", 'r') as f:\n",
        "  json_list = list(f)"
      ],
      "execution_count": null,
      "outputs": []
    },
    {
      "cell_type": "code",
      "metadata": {
        "id": "b3qCwNiqRS92"
      },
      "source": [
        "data9 = [json.loads(line) for line in json_list]\n",
        "for i, _ in enumerate(data9):\n",
        "  data9[i]['fid50k_full'] = data9[i]['results']['fid50k_full']\n",
        "  data9[i]['kimg'] = (i * 4 * 4) + data8[-1]['kimg'] #add kimg from previous run"
      ],
      "execution_count": null,
      "outputs": []
    },
    {
      "cell_type": "code",
      "metadata": {
        "id": "vhpzvBl3RPRT"
      },
      "source": [
        "fid_all = data + data2 + data3 + data4 + data5 + data6 + data7 + data8 + data9"
      ],
      "execution_count": null,
      "outputs": []
    },
    {
      "cell_type": "code",
      "metadata": {
        "colab": {
          "base_uri": "https://localhost:8080/",
          "height": 711
        },
        "id": "XmHu3NCT1mBg",
        "outputId": "3ebda2ba-7830-45c9-e543-7213beb05d13"
      },
      "source": [
        "df = pd.DataFrame(fid_all)\n",
        "df[df.duplicated(subset='kimg', keep=False)]"
      ],
      "execution_count": null,
      "outputs": [
        {
          "output_type": "execute_result",
          "data": {
            "text/html": [
              "<div>\n",
              "<style scoped>\n",
              "    .dataframe tbody tr th:only-of-type {\n",
              "        vertical-align: middle;\n",
              "    }\n",
              "\n",
              "    .dataframe tbody tr th {\n",
              "        vertical-align: top;\n",
              "    }\n",
              "\n",
              "    .dataframe thead th {\n",
              "        text-align: right;\n",
              "    }\n",
              "</style>\n",
              "<table border=\"1\" class=\"dataframe\">\n",
              "  <thead>\n",
              "    <tr style=\"text-align: right;\">\n",
              "      <th></th>\n",
              "      <th>results</th>\n",
              "      <th>metric</th>\n",
              "      <th>total_time</th>\n",
              "      <th>total_time_str</th>\n",
              "      <th>num_gpus</th>\n",
              "      <th>snapshot_pkl</th>\n",
              "      <th>timestamp</th>\n",
              "      <th>fid50k_full</th>\n",
              "      <th>kimg</th>\n",
              "    </tr>\n",
              "  </thead>\n",
              "  <tbody>\n",
              "    <tr>\n",
              "      <th>9</th>\n",
              "      <td>{'fid50k_full': 135.95974347368414}</td>\n",
              "      <td>fid50k_full</td>\n",
              "      <td>2389.670976</td>\n",
              "      <td>39m 50s</td>\n",
              "      <td>1</td>\n",
              "      <td>network-snapshot-000096.pkl</td>\n",
              "      <td>1.631716e+09</td>\n",
              "      <td>135.959743</td>\n",
              "      <td>144</td>\n",
              "    </tr>\n",
              "    <tr>\n",
              "      <th>10</th>\n",
              "      <td>{'fid50k_full': 136.039789658117}</td>\n",
              "      <td>fid50k_full</td>\n",
              "      <td>2558.623752</td>\n",
              "      <td>42m 39s</td>\n",
              "      <td>1</td>\n",
              "      <td>network-snapshot-000000.pkl</td>\n",
              "      <td>1.631744e+09</td>\n",
              "      <td>136.039790</td>\n",
              "      <td>144</td>\n",
              "    </tr>\n",
              "    <tr>\n",
              "      <th>16</th>\n",
              "      <td>{'fid50k_full': 90.6646674088789}</td>\n",
              "      <td>fid50k_full</td>\n",
              "      <td>2443.376663</td>\n",
              "      <td>40m 43s</td>\n",
              "      <td>1</td>\n",
              "      <td>network-snapshot-000096.pkl</td>\n",
              "      <td>1.631812e+09</td>\n",
              "      <td>90.664667</td>\n",
              "      <td>240</td>\n",
              "    </tr>\n",
              "    <tr>\n",
              "      <th>17</th>\n",
              "      <td>{'fid50k_full': 90.77434383701686}</td>\n",
              "      <td>fid50k_full</td>\n",
              "      <td>2440.454109</td>\n",
              "      <td>40m 40s</td>\n",
              "      <td>1</td>\n",
              "      <td>network-snapshot-000000.pkl</td>\n",
              "      <td>1.631818e+09</td>\n",
              "      <td>90.774344</td>\n",
              "      <td>240</td>\n",
              "    </tr>\n",
              "    <tr>\n",
              "      <th>24</th>\n",
              "      <td>{'fid50k_full': 85.5219995854263}</td>\n",
              "      <td>fid50k_full</td>\n",
              "      <td>2297.698040</td>\n",
              "      <td>38m 18s</td>\n",
              "      <td>1</td>\n",
              "      <td>network-snapshot-000112.pkl</td>\n",
              "      <td>1.631887e+09</td>\n",
              "      <td>85.522000</td>\n",
              "      <td>352</td>\n",
              "    </tr>\n",
              "    <tr>\n",
              "      <th>25</th>\n",
              "      <td>{'fid50k_full': 85.6499673783444}</td>\n",
              "      <td>fid50k_full</td>\n",
              "      <td>2378.774137</td>\n",
              "      <td>39m 39s</td>\n",
              "      <td>1</td>\n",
              "      <td>network-snapshot-000000.pkl</td>\n",
              "      <td>1.632022e+09</td>\n",
              "      <td>85.649967</td>\n",
              "      <td>352</td>\n",
              "    </tr>\n",
              "    <tr>\n",
              "      <th>32</th>\n",
              "      <td>{'fid50k_full': 78.62854357308844}</td>\n",
              "      <td>fid50k_full</td>\n",
              "      <td>2303.013170</td>\n",
              "      <td>38m 23s</td>\n",
              "      <td>1</td>\n",
              "      <td>network-snapshot-000112.pkl</td>\n",
              "      <td>1.632089e+09</td>\n",
              "      <td>78.628544</td>\n",
              "      <td>464</td>\n",
              "    </tr>\n",
              "    <tr>\n",
              "      <th>33</th>\n",
              "      <td>{'fid50k_full': 78.31712146700978}</td>\n",
              "      <td>fid50k_full</td>\n",
              "      <td>2370.420745</td>\n",
              "      <td>39m 30s</td>\n",
              "      <td>1</td>\n",
              "      <td>network-snapshot-000000.pkl</td>\n",
              "      <td>1.632126e+09</td>\n",
              "      <td>78.317121</td>\n",
              "      <td>464</td>\n",
              "    </tr>\n",
              "    <tr>\n",
              "      <th>40</th>\n",
              "      <td>{'fid50k_full': 73.77386964112637}</td>\n",
              "      <td>fid50k_full</td>\n",
              "      <td>2292.819276</td>\n",
              "      <td>38m 13s</td>\n",
              "      <td>1</td>\n",
              "      <td>network-snapshot-000112.pkl</td>\n",
              "      <td>1.632193e+09</td>\n",
              "      <td>73.773870</td>\n",
              "      <td>576</td>\n",
              "    </tr>\n",
              "    <tr>\n",
              "      <th>41</th>\n",
              "      <td>{'fid50k_full': 73.60023435943094}</td>\n",
              "      <td>fid50k_full</td>\n",
              "      <td>2521.918525</td>\n",
              "      <td>42m 02s</td>\n",
              "      <td>1</td>\n",
              "      <td>network-snapshot-000000.pkl</td>\n",
              "      <td>1.632217e+09</td>\n",
              "      <td>73.600234</td>\n",
              "      <td>576</td>\n",
              "    </tr>\n",
              "    <tr>\n",
              "      <th>44</th>\n",
              "      <td>{'fid50k_full': 68.6908535630362}</td>\n",
              "      <td>fid50k_full</td>\n",
              "      <td>2413.034019</td>\n",
              "      <td>40m 13s</td>\n",
              "      <td>1</td>\n",
              "      <td>network-snapshot-000048.pkl</td>\n",
              "      <td>1.632250e+09</td>\n",
              "      <td>68.690854</td>\n",
              "      <td>624</td>\n",
              "    </tr>\n",
              "    <tr>\n",
              "      <th>45</th>\n",
              "      <td>{'fid50k_full': 68.52911731453888}</td>\n",
              "      <td>fid50k_full</td>\n",
              "      <td>2344.796869</td>\n",
              "      <td>39m 05s</td>\n",
              "      <td>1</td>\n",
              "      <td>network-snapshot-000000.pkl</td>\n",
              "      <td>1.632263e+09</td>\n",
              "      <td>68.529117</td>\n",
              "      <td>624</td>\n",
              "    </tr>\n",
              "    <tr>\n",
              "      <th>52</th>\n",
              "      <td>{'fid50k_full': 68.48896506853177}</td>\n",
              "      <td>fid50k_full</td>\n",
              "      <td>2294.706890</td>\n",
              "      <td>38m 15s</td>\n",
              "      <td>1</td>\n",
              "      <td>network-snapshot-000112.pkl</td>\n",
              "      <td>1.632330e+09</td>\n",
              "      <td>68.488965</td>\n",
              "      <td>736</td>\n",
              "    </tr>\n",
              "    <tr>\n",
              "      <th>53</th>\n",
              "      <td>{'fid50k_full': 68.3082126664453}</td>\n",
              "      <td>fid50k_full</td>\n",
              "      <td>2337.671094</td>\n",
              "      <td>38m 58s</td>\n",
              "      <td>1</td>\n",
              "      <td>network-snapshot-000000.pkl</td>\n",
              "      <td>1.632422e+09</td>\n",
              "      <td>68.308213</td>\n",
              "      <td>736</td>\n",
              "    </tr>\n",
              "  </tbody>\n",
              "</table>\n",
              "</div>"
            ],
            "text/plain": [
              "                                results       metric  ...  fid50k_full kimg\n",
              "9   {'fid50k_full': 135.95974347368414}  fid50k_full  ...   135.959743  144\n",
              "10    {'fid50k_full': 136.039789658117}  fid50k_full  ...   136.039790  144\n",
              "16    {'fid50k_full': 90.6646674088789}  fid50k_full  ...    90.664667  240\n",
              "17   {'fid50k_full': 90.77434383701686}  fid50k_full  ...    90.774344  240\n",
              "24    {'fid50k_full': 85.5219995854263}  fid50k_full  ...    85.522000  352\n",
              "25    {'fid50k_full': 85.6499673783444}  fid50k_full  ...    85.649967  352\n",
              "32   {'fid50k_full': 78.62854357308844}  fid50k_full  ...    78.628544  464\n",
              "33   {'fid50k_full': 78.31712146700978}  fid50k_full  ...    78.317121  464\n",
              "40   {'fid50k_full': 73.77386964112637}  fid50k_full  ...    73.773870  576\n",
              "41   {'fid50k_full': 73.60023435943094}  fid50k_full  ...    73.600234  576\n",
              "44    {'fid50k_full': 68.6908535630362}  fid50k_full  ...    68.690854  624\n",
              "45   {'fid50k_full': 68.52911731453888}  fid50k_full  ...    68.529117  624\n",
              "52   {'fid50k_full': 68.48896506853177}  fid50k_full  ...    68.488965  736\n",
              "53    {'fid50k_full': 68.3082126664453}  fid50k_full  ...    68.308213  736\n",
              "\n",
              "[14 rows x 9 columns]"
            ]
          },
          "metadata": {},
          "execution_count": 31
        }
      ]
    },
    {
      "cell_type": "code",
      "metadata": {
        "colab": {
          "base_uri": "https://localhost:8080/",
          "height": 1000
        },
        "id": "vfCJU9jaULG5",
        "outputId": "b9020841-7251-4423-91cc-6913eb389746"
      },
      "source": [
        "df = df.drop_duplicates(subset='kimg', keep='last')\n",
        "df"
      ],
      "execution_count": null,
      "outputs": [
        {
          "output_type": "execute_result",
          "data": {
            "text/html": [
              "<div>\n",
              "<style scoped>\n",
              "    .dataframe tbody tr th:only-of-type {\n",
              "        vertical-align: middle;\n",
              "    }\n",
              "\n",
              "    .dataframe tbody tr th {\n",
              "        vertical-align: top;\n",
              "    }\n",
              "\n",
              "    .dataframe thead th {\n",
              "        text-align: right;\n",
              "    }\n",
              "</style>\n",
              "<table border=\"1\" class=\"dataframe\">\n",
              "  <thead>\n",
              "    <tr style=\"text-align: right;\">\n",
              "      <th></th>\n",
              "      <th>results</th>\n",
              "      <th>metric</th>\n",
              "      <th>total_time</th>\n",
              "      <th>total_time_str</th>\n",
              "      <th>num_gpus</th>\n",
              "      <th>snapshot_pkl</th>\n",
              "      <th>timestamp</th>\n",
              "      <th>fid50k_full</th>\n",
              "      <th>kimg</th>\n",
              "    </tr>\n",
              "  </thead>\n",
              "  <tbody>\n",
              "    <tr>\n",
              "      <th>0</th>\n",
              "      <td>{'fid50k_full': 362.0709050767614}</td>\n",
              "      <td>fid50k_full</td>\n",
              "      <td>2313.912512</td>\n",
              "      <td>38m 34s</td>\n",
              "      <td>1</td>\n",
              "      <td>network-snapshot-000000.pkl</td>\n",
              "      <td>1.631588e+09</td>\n",
              "      <td>362.070905</td>\n",
              "      <td>0</td>\n",
              "    </tr>\n",
              "    <tr>\n",
              "      <th>1</th>\n",
              "      <td>{'fid50k_full': 369.2238479424669}</td>\n",
              "      <td>fid50k_full</td>\n",
              "      <td>2301.687462</td>\n",
              "      <td>38m 22s</td>\n",
              "      <td>1</td>\n",
              "      <td>network-snapshot-000016.pkl</td>\n",
              "      <td>1.631598e+09</td>\n",
              "      <td>369.223848</td>\n",
              "      <td>16</td>\n",
              "    </tr>\n",
              "    <tr>\n",
              "      <th>2</th>\n",
              "      <td>{'fid50k_full': 299.9726982568777}</td>\n",
              "      <td>fid50k_full</td>\n",
              "      <td>2301.888762</td>\n",
              "      <td>38m 22s</td>\n",
              "      <td>1</td>\n",
              "      <td>network-snapshot-000032.pkl</td>\n",
              "      <td>1.631608e+09</td>\n",
              "      <td>299.972698</td>\n",
              "      <td>32</td>\n",
              "    </tr>\n",
              "    <tr>\n",
              "      <th>3</th>\n",
              "      <td>{'fid50k_full': 231.93313160636123}</td>\n",
              "      <td>fid50k_full</td>\n",
              "      <td>2546.375197</td>\n",
              "      <td>42m 26s</td>\n",
              "      <td>1</td>\n",
              "      <td>network-snapshot-000000.pkl</td>\n",
              "      <td>1.631650e+09</td>\n",
              "      <td>231.933132</td>\n",
              "      <td>48</td>\n",
              "    </tr>\n",
              "    <tr>\n",
              "      <th>4</th>\n",
              "      <td>{'fid50k_full': 187.61681349739325}</td>\n",
              "      <td>fid50k_full</td>\n",
              "      <td>2390.822346</td>\n",
              "      <td>39m 51s</td>\n",
              "      <td>1</td>\n",
              "      <td>network-snapshot-000016.pkl</td>\n",
              "      <td>1.631661e+09</td>\n",
              "      <td>187.616813</td>\n",
              "      <td>64</td>\n",
              "    </tr>\n",
              "    <tr>\n",
              "      <th>5</th>\n",
              "      <td>{'fid50k_full': 207.2614859233689}</td>\n",
              "      <td>fid50k_full</td>\n",
              "      <td>2381.996134</td>\n",
              "      <td>39m 42s</td>\n",
              "      <td>1</td>\n",
              "      <td>network-snapshot-000032.pkl</td>\n",
              "      <td>1.631672e+09</td>\n",
              "      <td>207.261486</td>\n",
              "      <td>80</td>\n",
              "    </tr>\n",
              "    <tr>\n",
              "      <th>6</th>\n",
              "      <td>{'fid50k_full': 161.12890958917302}</td>\n",
              "      <td>fid50k_full</td>\n",
              "      <td>2384.799634</td>\n",
              "      <td>39m 45s</td>\n",
              "      <td>1</td>\n",
              "      <td>network-snapshot-000048.pkl</td>\n",
              "      <td>1.631683e+09</td>\n",
              "      <td>161.128910</td>\n",
              "      <td>96</td>\n",
              "    </tr>\n",
              "    <tr>\n",
              "      <th>7</th>\n",
              "      <td>{'fid50k_full': 151.32710140951588}</td>\n",
              "      <td>fid50k_full</td>\n",
              "      <td>2387.465434</td>\n",
              "      <td>39m 47s</td>\n",
              "      <td>1</td>\n",
              "      <td>network-snapshot-000064.pkl</td>\n",
              "      <td>1.631694e+09</td>\n",
              "      <td>151.327101</td>\n",
              "      <td>112</td>\n",
              "    </tr>\n",
              "    <tr>\n",
              "      <th>8</th>\n",
              "      <td>{'fid50k_full': 137.319075007602}</td>\n",
              "      <td>fid50k_full</td>\n",
              "      <td>2373.956124</td>\n",
              "      <td>39m 34s</td>\n",
              "      <td>1</td>\n",
              "      <td>network-snapshot-000080.pkl</td>\n",
              "      <td>1.631705e+09</td>\n",
              "      <td>137.319075</td>\n",
              "      <td>128</td>\n",
              "    </tr>\n",
              "    <tr>\n",
              "      <th>10</th>\n",
              "      <td>{'fid50k_full': 136.039789658117}</td>\n",
              "      <td>fid50k_full</td>\n",
              "      <td>2558.623752</td>\n",
              "      <td>42m 39s</td>\n",
              "      <td>1</td>\n",
              "      <td>network-snapshot-000000.pkl</td>\n",
              "      <td>1.631744e+09</td>\n",
              "      <td>136.039790</td>\n",
              "      <td>144</td>\n",
              "    </tr>\n",
              "    <tr>\n",
              "      <th>11</th>\n",
              "      <td>{'fid50k_full': 128.72904888890483}</td>\n",
              "      <td>fid50k_full</td>\n",
              "      <td>2443.033737</td>\n",
              "      <td>40m 43s</td>\n",
              "      <td>1</td>\n",
              "      <td>network-snapshot-000016.pkl</td>\n",
              "      <td>1.631755e+09</td>\n",
              "      <td>128.729049</td>\n",
              "      <td>160</td>\n",
              "    </tr>\n",
              "    <tr>\n",
              "      <th>12</th>\n",
              "      <td>{'fid50k_full': 119.6268762397335}</td>\n",
              "      <td>fid50k_full</td>\n",
              "      <td>2447.538244</td>\n",
              "      <td>40m 48s</td>\n",
              "      <td>1</td>\n",
              "      <td>network-snapshot-000032.pkl</td>\n",
              "      <td>1.631767e+09</td>\n",
              "      <td>119.626876</td>\n",
              "      <td>176</td>\n",
              "    </tr>\n",
              "    <tr>\n",
              "      <th>13</th>\n",
              "      <td>{'fid50k_full': 108.97447067867039}</td>\n",
              "      <td>fid50k_full</td>\n",
              "      <td>2436.058487</td>\n",
              "      <td>40m 36s</td>\n",
              "      <td>1</td>\n",
              "      <td>network-snapshot-000048.pkl</td>\n",
              "      <td>1.631778e+09</td>\n",
              "      <td>108.974471</td>\n",
              "      <td>192</td>\n",
              "    </tr>\n",
              "    <tr>\n",
              "      <th>14</th>\n",
              "      <td>{'fid50k_full': 104.1028404458504}</td>\n",
              "      <td>fid50k_full</td>\n",
              "      <td>2439.628042</td>\n",
              "      <td>40m 40s</td>\n",
              "      <td>1</td>\n",
              "      <td>network-snapshot-000064.pkl</td>\n",
              "      <td>1.631789e+09</td>\n",
              "      <td>104.102840</td>\n",
              "      <td>208</td>\n",
              "    </tr>\n",
              "    <tr>\n",
              "      <th>15</th>\n",
              "      <td>{'fid50k_full': 100.35370025499726}</td>\n",
              "      <td>fid50k_full</td>\n",
              "      <td>2436.026195</td>\n",
              "      <td>40m 36s</td>\n",
              "      <td>1</td>\n",
              "      <td>network-snapshot-000080.pkl</td>\n",
              "      <td>1.631801e+09</td>\n",
              "      <td>100.353700</td>\n",
              "      <td>224</td>\n",
              "    </tr>\n",
              "    <tr>\n",
              "      <th>17</th>\n",
              "      <td>{'fid50k_full': 90.77434383701686}</td>\n",
              "      <td>fid50k_full</td>\n",
              "      <td>2440.454109</td>\n",
              "      <td>40m 40s</td>\n",
              "      <td>1</td>\n",
              "      <td>network-snapshot-000000.pkl</td>\n",
              "      <td>1.631818e+09</td>\n",
              "      <td>90.774344</td>\n",
              "      <td>240</td>\n",
              "    </tr>\n",
              "    <tr>\n",
              "      <th>18</th>\n",
              "      <td>{'fid50k_full': 100.73267314298849}</td>\n",
              "      <td>fid50k_full</td>\n",
              "      <td>2296.542279</td>\n",
              "      <td>38m 17s</td>\n",
              "      <td>1</td>\n",
              "      <td>network-snapshot-000016.pkl</td>\n",
              "      <td>1.631828e+09</td>\n",
              "      <td>100.732673</td>\n",
              "      <td>256</td>\n",
              "    </tr>\n",
              "    <tr>\n",
              "      <th>19</th>\n",
              "      <td>{'fid50k_full': 98.35139923343549}</td>\n",
              "      <td>fid50k_full</td>\n",
              "      <td>2296.619475</td>\n",
              "      <td>38m 17s</td>\n",
              "      <td>1</td>\n",
              "      <td>network-snapshot-000032.pkl</td>\n",
              "      <td>1.631838e+09</td>\n",
              "      <td>98.351399</td>\n",
              "      <td>272</td>\n",
              "    </tr>\n",
              "    <tr>\n",
              "      <th>20</th>\n",
              "      <td>{'fid50k_full': 96.07275824798812}</td>\n",
              "      <td>fid50k_full</td>\n",
              "      <td>2298.033861</td>\n",
              "      <td>38m 18s</td>\n",
              "      <td>1</td>\n",
              "      <td>network-snapshot-000048.pkl</td>\n",
              "      <td>1.631848e+09</td>\n",
              "      <td>96.072758</td>\n",
              "      <td>288</td>\n",
              "    </tr>\n",
              "    <tr>\n",
              "      <th>21</th>\n",
              "      <td>{'fid50k_full': 81.39067785227466}</td>\n",
              "      <td>fid50k_full</td>\n",
              "      <td>2298.830457</td>\n",
              "      <td>38m 19s</td>\n",
              "      <td>1</td>\n",
              "      <td>network-snapshot-000064.pkl</td>\n",
              "      <td>1.631857e+09</td>\n",
              "      <td>81.390678</td>\n",
              "      <td>304</td>\n",
              "    </tr>\n",
              "    <tr>\n",
              "      <th>22</th>\n",
              "      <td>{'fid50k_full': 81.85086356564182}</td>\n",
              "      <td>fid50k_full</td>\n",
              "      <td>2297.615529</td>\n",
              "      <td>38m 18s</td>\n",
              "      <td>1</td>\n",
              "      <td>network-snapshot-000080.pkl</td>\n",
              "      <td>1.631867e+09</td>\n",
              "      <td>81.850864</td>\n",
              "      <td>320</td>\n",
              "    </tr>\n",
              "    <tr>\n",
              "      <th>23</th>\n",
              "      <td>{'fid50k_full': 85.2249363797199}</td>\n",
              "      <td>fid50k_full</td>\n",
              "      <td>2298.285653</td>\n",
              "      <td>38m 18s</td>\n",
              "      <td>1</td>\n",
              "      <td>network-snapshot-000096.pkl</td>\n",
              "      <td>1.631877e+09</td>\n",
              "      <td>85.224936</td>\n",
              "      <td>336</td>\n",
              "    </tr>\n",
              "    <tr>\n",
              "      <th>25</th>\n",
              "      <td>{'fid50k_full': 85.6499673783444}</td>\n",
              "      <td>fid50k_full</td>\n",
              "      <td>2378.774137</td>\n",
              "      <td>39m 39s</td>\n",
              "      <td>1</td>\n",
              "      <td>network-snapshot-000000.pkl</td>\n",
              "      <td>1.632022e+09</td>\n",
              "      <td>85.649967</td>\n",
              "      <td>352</td>\n",
              "    </tr>\n",
              "    <tr>\n",
              "      <th>26</th>\n",
              "      <td>{'fid50k_full': 91.89128710797624}</td>\n",
              "      <td>fid50k_full</td>\n",
              "      <td>2298.737087</td>\n",
              "      <td>38m 19s</td>\n",
              "      <td>1</td>\n",
              "      <td>network-snapshot-000016.pkl</td>\n",
              "      <td>1.632031e+09</td>\n",
              "      <td>91.891287</td>\n",
              "      <td>368</td>\n",
              "    </tr>\n",
              "    <tr>\n",
              "      <th>27</th>\n",
              "      <td>{'fid50k_full': 82.34578162281872}</td>\n",
              "      <td>fid50k_full</td>\n",
              "      <td>2298.126575</td>\n",
              "      <td>38m 18s</td>\n",
              "      <td>1</td>\n",
              "      <td>network-snapshot-000032.pkl</td>\n",
              "      <td>1.632041e+09</td>\n",
              "      <td>82.345782</td>\n",
              "      <td>384</td>\n",
              "    </tr>\n",
              "    <tr>\n",
              "      <th>28</th>\n",
              "      <td>{'fid50k_full': 80.67758115243348}</td>\n",
              "      <td>fid50k_full</td>\n",
              "      <td>2300.711108</td>\n",
              "      <td>38m 21s</td>\n",
              "      <td>1</td>\n",
              "      <td>network-snapshot-000048.pkl</td>\n",
              "      <td>1.632050e+09</td>\n",
              "      <td>80.677581</td>\n",
              "      <td>400</td>\n",
              "    </tr>\n",
              "    <tr>\n",
              "      <th>29</th>\n",
              "      <td>{'fid50k_full': 79.2610009687343}</td>\n",
              "      <td>fid50k_full</td>\n",
              "      <td>2294.880371</td>\n",
              "      <td>38m 15s</td>\n",
              "      <td>1</td>\n",
              "      <td>network-snapshot-000064.pkl</td>\n",
              "      <td>1.632060e+09</td>\n",
              "      <td>79.261001</td>\n",
              "      <td>416</td>\n",
              "    </tr>\n",
              "    <tr>\n",
              "      <th>30</th>\n",
              "      <td>{'fid50k_full': 80.60090541156451}</td>\n",
              "      <td>fid50k_full</td>\n",
              "      <td>2298.103048</td>\n",
              "      <td>38m 18s</td>\n",
              "      <td>1</td>\n",
              "      <td>network-snapshot-000080.pkl</td>\n",
              "      <td>1.632070e+09</td>\n",
              "      <td>80.600905</td>\n",
              "      <td>432</td>\n",
              "    </tr>\n",
              "    <tr>\n",
              "      <th>31</th>\n",
              "      <td>{'fid50k_full': 76.23323235237041}</td>\n",
              "      <td>fid50k_full</td>\n",
              "      <td>2300.499210</td>\n",
              "      <td>38m 20s</td>\n",
              "      <td>1</td>\n",
              "      <td>network-snapshot-000096.pkl</td>\n",
              "      <td>1.632079e+09</td>\n",
              "      <td>76.233232</td>\n",
              "      <td>448</td>\n",
              "    </tr>\n",
              "    <tr>\n",
              "      <th>33</th>\n",
              "      <td>{'fid50k_full': 78.31712146700978}</td>\n",
              "      <td>fid50k_full</td>\n",
              "      <td>2370.420745</td>\n",
              "      <td>39m 30s</td>\n",
              "      <td>1</td>\n",
              "      <td>network-snapshot-000000.pkl</td>\n",
              "      <td>1.632126e+09</td>\n",
              "      <td>78.317121</td>\n",
              "      <td>464</td>\n",
              "    </tr>\n",
              "    <tr>\n",
              "      <th>34</th>\n",
              "      <td>{'fid50k_full': 82.56518394713936}</td>\n",
              "      <td>fid50k_full</td>\n",
              "      <td>2290.425703</td>\n",
              "      <td>38m 10s</td>\n",
              "      <td>1</td>\n",
              "      <td>network-snapshot-000016.pkl</td>\n",
              "      <td>1.632136e+09</td>\n",
              "      <td>82.565184</td>\n",
              "      <td>480</td>\n",
              "    </tr>\n",
              "    <tr>\n",
              "      <th>35</th>\n",
              "      <td>{'fid50k_full': 75.30959112228764}</td>\n",
              "      <td>fid50k_full</td>\n",
              "      <td>2293.722831</td>\n",
              "      <td>38m 14s</td>\n",
              "      <td>1</td>\n",
              "      <td>network-snapshot-000032.pkl</td>\n",
              "      <td>1.632145e+09</td>\n",
              "      <td>75.309591</td>\n",
              "      <td>496</td>\n",
              "    </tr>\n",
              "    <tr>\n",
              "      <th>36</th>\n",
              "      <td>{'fid50k_full': 82.98149279615244}</td>\n",
              "      <td>fid50k_full</td>\n",
              "      <td>2293.785699</td>\n",
              "      <td>38m 14s</td>\n",
              "      <td>1</td>\n",
              "      <td>network-snapshot-000048.pkl</td>\n",
              "      <td>1.632155e+09</td>\n",
              "      <td>82.981493</td>\n",
              "      <td>512</td>\n",
              "    </tr>\n",
              "    <tr>\n",
              "      <th>37</th>\n",
              "      <td>{'fid50k_full': 76.95353603943823}</td>\n",
              "      <td>fid50k_full</td>\n",
              "      <td>2295.703812</td>\n",
              "      <td>38m 16s</td>\n",
              "      <td>1</td>\n",
              "      <td>network-snapshot-000064.pkl</td>\n",
              "      <td>1.632165e+09</td>\n",
              "      <td>76.953536</td>\n",
              "      <td>528</td>\n",
              "    </tr>\n",
              "    <tr>\n",
              "      <th>38</th>\n",
              "      <td>{'fid50k_full': 77.81666761632817}</td>\n",
              "      <td>fid50k_full</td>\n",
              "      <td>2297.760949</td>\n",
              "      <td>38m 18s</td>\n",
              "      <td>1</td>\n",
              "      <td>network-snapshot-000080.pkl</td>\n",
              "      <td>1.632174e+09</td>\n",
              "      <td>77.816668</td>\n",
              "      <td>544</td>\n",
              "    </tr>\n",
              "    <tr>\n",
              "      <th>39</th>\n",
              "      <td>{'fid50k_full': 77.00803987257123}</td>\n",
              "      <td>fid50k_full</td>\n",
              "      <td>2297.434330</td>\n",
              "      <td>38m 17s</td>\n",
              "      <td>1</td>\n",
              "      <td>network-snapshot-000096.pkl</td>\n",
              "      <td>1.632184e+09</td>\n",
              "      <td>77.008040</td>\n",
              "      <td>560</td>\n",
              "    </tr>\n",
              "    <tr>\n",
              "      <th>41</th>\n",
              "      <td>{'fid50k_full': 73.60023435943094}</td>\n",
              "      <td>fid50k_full</td>\n",
              "      <td>2521.918525</td>\n",
              "      <td>42m 02s</td>\n",
              "      <td>1</td>\n",
              "      <td>network-snapshot-000000.pkl</td>\n",
              "      <td>1.632217e+09</td>\n",
              "      <td>73.600234</td>\n",
              "      <td>576</td>\n",
              "    </tr>\n",
              "    <tr>\n",
              "      <th>42</th>\n",
              "      <td>{'fid50k_full': 77.43225137700996}</td>\n",
              "      <td>fid50k_full</td>\n",
              "      <td>2416.202863</td>\n",
              "      <td>40m 16s</td>\n",
              "      <td>1</td>\n",
              "      <td>network-snapshot-000016.pkl</td>\n",
              "      <td>1.632228e+09</td>\n",
              "      <td>77.432251</td>\n",
              "      <td>592</td>\n",
              "    </tr>\n",
              "    <tr>\n",
              "      <th>43</th>\n",
              "      <td>{'fid50k_full': 72.28302730772776}</td>\n",
              "      <td>fid50k_full</td>\n",
              "      <td>2418.726655</td>\n",
              "      <td>40m 19s</td>\n",
              "      <td>1</td>\n",
              "      <td>network-snapshot-000032.pkl</td>\n",
              "      <td>1.632239e+09</td>\n",
              "      <td>72.283027</td>\n",
              "      <td>608</td>\n",
              "    </tr>\n",
              "    <tr>\n",
              "      <th>45</th>\n",
              "      <td>{'fid50k_full': 68.52911731453888}</td>\n",
              "      <td>fid50k_full</td>\n",
              "      <td>2344.796869</td>\n",
              "      <td>39m 05s</td>\n",
              "      <td>1</td>\n",
              "      <td>network-snapshot-000000.pkl</td>\n",
              "      <td>1.632263e+09</td>\n",
              "      <td>68.529117</td>\n",
              "      <td>624</td>\n",
              "    </tr>\n",
              "    <tr>\n",
              "      <th>46</th>\n",
              "      <td>{'fid50k_full': 77.01144491648334}</td>\n",
              "      <td>fid50k_full</td>\n",
              "      <td>2292.302834</td>\n",
              "      <td>38m 12s</td>\n",
              "      <td>1</td>\n",
              "      <td>network-snapshot-000016.pkl</td>\n",
              "      <td>1.632273e+09</td>\n",
              "      <td>77.011445</td>\n",
              "      <td>640</td>\n",
              "    </tr>\n",
              "    <tr>\n",
              "      <th>47</th>\n",
              "      <td>{'fid50k_full': 70.12193654820477}</td>\n",
              "      <td>fid50k_full</td>\n",
              "      <td>2293.031539</td>\n",
              "      <td>38m 13s</td>\n",
              "      <td>1</td>\n",
              "      <td>network-snapshot-000032.pkl</td>\n",
              "      <td>1.632282e+09</td>\n",
              "      <td>70.121937</td>\n",
              "      <td>656</td>\n",
              "    </tr>\n",
              "    <tr>\n",
              "      <th>48</th>\n",
              "      <td>{'fid50k_full': 73.04337607382068}</td>\n",
              "      <td>fid50k_full</td>\n",
              "      <td>2294.466788</td>\n",
              "      <td>38m 14s</td>\n",
              "      <td>1</td>\n",
              "      <td>network-snapshot-000048.pkl</td>\n",
              "      <td>1.632292e+09</td>\n",
              "      <td>73.043376</td>\n",
              "      <td>672</td>\n",
              "    </tr>\n",
              "    <tr>\n",
              "      <th>49</th>\n",
              "      <td>{'fid50k_full': 70.90708570805512}</td>\n",
              "      <td>fid50k_full</td>\n",
              "      <td>2294.074359</td>\n",
              "      <td>38m 14s</td>\n",
              "      <td>1</td>\n",
              "      <td>network-snapshot-000064.pkl</td>\n",
              "      <td>1.632302e+09</td>\n",
              "      <td>70.907086</td>\n",
              "      <td>688</td>\n",
              "    </tr>\n",
              "    <tr>\n",
              "      <th>50</th>\n",
              "      <td>{'fid50k_full': 70.94624407296611}</td>\n",
              "      <td>fid50k_full</td>\n",
              "      <td>2294.250266</td>\n",
              "      <td>38m 14s</td>\n",
              "      <td>1</td>\n",
              "      <td>network-snapshot-000080.pkl</td>\n",
              "      <td>1.632311e+09</td>\n",
              "      <td>70.946244</td>\n",
              "      <td>704</td>\n",
              "    </tr>\n",
              "    <tr>\n",
              "      <th>51</th>\n",
              "      <td>{'fid50k_full': 70.46502836254366}</td>\n",
              "      <td>fid50k_full</td>\n",
              "      <td>2294.311841</td>\n",
              "      <td>38m 14s</td>\n",
              "      <td>1</td>\n",
              "      <td>network-snapshot-000096.pkl</td>\n",
              "      <td>1.632321e+09</td>\n",
              "      <td>70.465028</td>\n",
              "      <td>720</td>\n",
              "    </tr>\n",
              "    <tr>\n",
              "      <th>53</th>\n",
              "      <td>{'fid50k_full': 68.3082126664453}</td>\n",
              "      <td>fid50k_full</td>\n",
              "      <td>2337.671094</td>\n",
              "      <td>38m 58s</td>\n",
              "      <td>1</td>\n",
              "      <td>network-snapshot-000000.pkl</td>\n",
              "      <td>1.632422e+09</td>\n",
              "      <td>68.308213</td>\n",
              "      <td>736</td>\n",
              "    </tr>\n",
              "    <tr>\n",
              "      <th>54</th>\n",
              "      <td>{'fid50k_full': 83.80486642820371}</td>\n",
              "      <td>fid50k_full</td>\n",
              "      <td>2289.627726</td>\n",
              "      <td>38m 10s</td>\n",
              "      <td>1</td>\n",
              "      <td>network-snapshot-000016.pkl</td>\n",
              "      <td>1.632431e+09</td>\n",
              "      <td>83.804866</td>\n",
              "      <td>752</td>\n",
              "    </tr>\n",
              "    <tr>\n",
              "      <th>55</th>\n",
              "      <td>{'fid50k_full': 68.31018305265248}</td>\n",
              "      <td>fid50k_full</td>\n",
              "      <td>2289.914127</td>\n",
              "      <td>38m 10s</td>\n",
              "      <td>1</td>\n",
              "      <td>network-snapshot-000032.pkl</td>\n",
              "      <td>1.632441e+09</td>\n",
              "      <td>68.310183</td>\n",
              "      <td>768</td>\n",
              "    </tr>\n",
              "    <tr>\n",
              "      <th>56</th>\n",
              "      <td>{'fid50k_full': 69.58158790014826}</td>\n",
              "      <td>fid50k_full</td>\n",
              "      <td>2291.047181</td>\n",
              "      <td>38m 11s</td>\n",
              "      <td>1</td>\n",
              "      <td>network-snapshot-000048.pkl</td>\n",
              "      <td>1.632450e+09</td>\n",
              "      <td>69.581588</td>\n",
              "      <td>784</td>\n",
              "    </tr>\n",
              "    <tr>\n",
              "      <th>57</th>\n",
              "      <td>{'fid50k_full': 72.30085744606609}</td>\n",
              "      <td>fid50k_full</td>\n",
              "      <td>2289.891843</td>\n",
              "      <td>38m 10s</td>\n",
              "      <td>1</td>\n",
              "      <td>network-snapshot-000064.pkl</td>\n",
              "      <td>1.632460e+09</td>\n",
              "      <td>72.300857</td>\n",
              "      <td>800</td>\n",
              "    </tr>\n",
              "    <tr>\n",
              "      <th>58</th>\n",
              "      <td>{'fid50k_full': 67.55636397725567}</td>\n",
              "      <td>fid50k_full</td>\n",
              "      <td>2291.049932</td>\n",
              "      <td>38m 11s</td>\n",
              "      <td>1</td>\n",
              "      <td>network-snapshot-000080.pkl</td>\n",
              "      <td>1.632470e+09</td>\n",
              "      <td>67.556364</td>\n",
              "      <td>816</td>\n",
              "    </tr>\n",
              "    <tr>\n",
              "      <th>59</th>\n",
              "      <td>{'fid50k_full': 73.17361781354572}</td>\n",
              "      <td>fid50k_full</td>\n",
              "      <td>2291.262035</td>\n",
              "      <td>38m 11s</td>\n",
              "      <td>1</td>\n",
              "      <td>network-snapshot-000096.pkl</td>\n",
              "      <td>1.632479e+09</td>\n",
              "      <td>73.173618</td>\n",
              "      <td>832</td>\n",
              "    </tr>\n",
              "    <tr>\n",
              "      <th>60</th>\n",
              "      <td>{'fid50k_full': 68.96255129466533}</td>\n",
              "      <td>fid50k_full</td>\n",
              "      <td>2290.351859</td>\n",
              "      <td>38m 10s</td>\n",
              "      <td>1</td>\n",
              "      <td>network-snapshot-000112.pkl</td>\n",
              "      <td>1.632489e+09</td>\n",
              "      <td>68.962551</td>\n",
              "      <td>848</td>\n",
              "    </tr>\n",
              "  </tbody>\n",
              "</table>\n",
              "</div>"
            ],
            "text/plain": [
              "                                results       metric  ...  fid50k_full kimg\n",
              "0    {'fid50k_full': 362.0709050767614}  fid50k_full  ...   362.070905    0\n",
              "1    {'fid50k_full': 369.2238479424669}  fid50k_full  ...   369.223848   16\n",
              "2    {'fid50k_full': 299.9726982568777}  fid50k_full  ...   299.972698   32\n",
              "3   {'fid50k_full': 231.93313160636123}  fid50k_full  ...   231.933132   48\n",
              "4   {'fid50k_full': 187.61681349739325}  fid50k_full  ...   187.616813   64\n",
              "5    {'fid50k_full': 207.2614859233689}  fid50k_full  ...   207.261486   80\n",
              "6   {'fid50k_full': 161.12890958917302}  fid50k_full  ...   161.128910   96\n",
              "7   {'fid50k_full': 151.32710140951588}  fid50k_full  ...   151.327101  112\n",
              "8     {'fid50k_full': 137.319075007602}  fid50k_full  ...   137.319075  128\n",
              "10    {'fid50k_full': 136.039789658117}  fid50k_full  ...   136.039790  144\n",
              "11  {'fid50k_full': 128.72904888890483}  fid50k_full  ...   128.729049  160\n",
              "12   {'fid50k_full': 119.6268762397335}  fid50k_full  ...   119.626876  176\n",
              "13  {'fid50k_full': 108.97447067867039}  fid50k_full  ...   108.974471  192\n",
              "14   {'fid50k_full': 104.1028404458504}  fid50k_full  ...   104.102840  208\n",
              "15  {'fid50k_full': 100.35370025499726}  fid50k_full  ...   100.353700  224\n",
              "17   {'fid50k_full': 90.77434383701686}  fid50k_full  ...    90.774344  240\n",
              "18  {'fid50k_full': 100.73267314298849}  fid50k_full  ...   100.732673  256\n",
              "19   {'fid50k_full': 98.35139923343549}  fid50k_full  ...    98.351399  272\n",
              "20   {'fid50k_full': 96.07275824798812}  fid50k_full  ...    96.072758  288\n",
              "21   {'fid50k_full': 81.39067785227466}  fid50k_full  ...    81.390678  304\n",
              "22   {'fid50k_full': 81.85086356564182}  fid50k_full  ...    81.850864  320\n",
              "23    {'fid50k_full': 85.2249363797199}  fid50k_full  ...    85.224936  336\n",
              "25    {'fid50k_full': 85.6499673783444}  fid50k_full  ...    85.649967  352\n",
              "26   {'fid50k_full': 91.89128710797624}  fid50k_full  ...    91.891287  368\n",
              "27   {'fid50k_full': 82.34578162281872}  fid50k_full  ...    82.345782  384\n",
              "28   {'fid50k_full': 80.67758115243348}  fid50k_full  ...    80.677581  400\n",
              "29    {'fid50k_full': 79.2610009687343}  fid50k_full  ...    79.261001  416\n",
              "30   {'fid50k_full': 80.60090541156451}  fid50k_full  ...    80.600905  432\n",
              "31   {'fid50k_full': 76.23323235237041}  fid50k_full  ...    76.233232  448\n",
              "33   {'fid50k_full': 78.31712146700978}  fid50k_full  ...    78.317121  464\n",
              "34   {'fid50k_full': 82.56518394713936}  fid50k_full  ...    82.565184  480\n",
              "35   {'fid50k_full': 75.30959112228764}  fid50k_full  ...    75.309591  496\n",
              "36   {'fid50k_full': 82.98149279615244}  fid50k_full  ...    82.981493  512\n",
              "37   {'fid50k_full': 76.95353603943823}  fid50k_full  ...    76.953536  528\n",
              "38   {'fid50k_full': 77.81666761632817}  fid50k_full  ...    77.816668  544\n",
              "39   {'fid50k_full': 77.00803987257123}  fid50k_full  ...    77.008040  560\n",
              "41   {'fid50k_full': 73.60023435943094}  fid50k_full  ...    73.600234  576\n",
              "42   {'fid50k_full': 77.43225137700996}  fid50k_full  ...    77.432251  592\n",
              "43   {'fid50k_full': 72.28302730772776}  fid50k_full  ...    72.283027  608\n",
              "45   {'fid50k_full': 68.52911731453888}  fid50k_full  ...    68.529117  624\n",
              "46   {'fid50k_full': 77.01144491648334}  fid50k_full  ...    77.011445  640\n",
              "47   {'fid50k_full': 70.12193654820477}  fid50k_full  ...    70.121937  656\n",
              "48   {'fid50k_full': 73.04337607382068}  fid50k_full  ...    73.043376  672\n",
              "49   {'fid50k_full': 70.90708570805512}  fid50k_full  ...    70.907086  688\n",
              "50   {'fid50k_full': 70.94624407296611}  fid50k_full  ...    70.946244  704\n",
              "51   {'fid50k_full': 70.46502836254366}  fid50k_full  ...    70.465028  720\n",
              "53    {'fid50k_full': 68.3082126664453}  fid50k_full  ...    68.308213  736\n",
              "54   {'fid50k_full': 83.80486642820371}  fid50k_full  ...    83.804866  752\n",
              "55   {'fid50k_full': 68.31018305265248}  fid50k_full  ...    68.310183  768\n",
              "56   {'fid50k_full': 69.58158790014826}  fid50k_full  ...    69.581588  784\n",
              "57   {'fid50k_full': 72.30085744606609}  fid50k_full  ...    72.300857  800\n",
              "58   {'fid50k_full': 67.55636397725567}  fid50k_full  ...    67.556364  816\n",
              "59   {'fid50k_full': 73.17361781354572}  fid50k_full  ...    73.173618  832\n",
              "60   {'fid50k_full': 68.96255129466533}  fid50k_full  ...    68.962551  848\n",
              "\n",
              "[54 rows x 9 columns]"
            ]
          },
          "metadata": {},
          "execution_count": 32
        }
      ]
    },
    {
      "cell_type": "code",
      "metadata": {
        "colab": {
          "base_uri": "https://localhost:8080/"
        },
        "id": "rrVYcfCuDQHq",
        "outputId": "fc062316-1bb2-473c-8e13-a71a3f643ad1"
      },
      "source": [
        "# lowest FID achieved during training\n",
        "round(df['fid50k_full'].min(), 2)"
      ],
      "execution_count": null,
      "outputs": [
        {
          "output_type": "execute_result",
          "data": {
            "text/plain": [
              "67.56"
            ]
          },
          "metadata": {},
          "execution_count": 36
        }
      ]
    },
    {
      "cell_type": "code",
      "metadata": {
        "colab": {
          "base_uri": "https://localhost:8080/",
          "height": 360
        },
        "id": "8JWc32zFVX2c",
        "outputId": "9c98deda-178d-42d1-c25f-7e25d14bfb90"
      },
      "source": [
        "sns.set_context('talk', font_scale=0.8)\n",
        "sns.set_style('darkgrid')\n",
        "\n",
        "plt.figure(figsize=(8,5))\n",
        "sns.lineplot(x='kimg', y='fid50k_full', data=df)\n",
        "plt.title('FID')\n",
        "plt.tight_layout()\n",
        "plt.xlabel('kimg (number of reals shown to D)')\n",
        "plt.savefig('/content/drive/MyDrive/malliGAN/malliFID.png');"
      ],
      "execution_count": null,
      "outputs": [
        {
          "output_type": "display_data",
          "data": {
            "image/png": "[encoded data removed]",
            "text/plain": [
              "<Figure size 576x360 with 1 Axes>"
            ]
          },
          "metadata": {}
        }
      ]
    }
  ]
}